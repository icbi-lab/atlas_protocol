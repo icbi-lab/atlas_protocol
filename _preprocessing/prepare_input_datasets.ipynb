{
 "cells": [
  {
   "cell_type": "markdown",
   "id": "071be8e5-1224-420b-a155-ec6a32c3d5c5",
   "metadata": {},
   "source": [
    "Prepare input datasets for the tutorial.\n",
    "We choose datasets from three different platforms: \n",
    " * Lambrechts_Thienpont_2018_6653 (10x 3' v2)\n",
    " * Maynard_Bivona_2020 (SS2)\n",
    " * UKIM-V (BD)\n",
    " * UKIM-V-2 (BD, for scarches)"
   ]
  },
  {
   "cell_type": "code",
   "execution_count": 1,
   "id": "fe7d6144-59b4-46d4-8b70-80f5257c7f38",
   "metadata": {},
   "outputs": [],
   "source": [
    "import scanpy as sc"
   ]
  },
  {
   "cell_type": "code",
   "execution_count": 2,
   "id": "119f6e55-cd1f-4e4f-99c2-08bd42212856",
   "metadata": {},
   "outputs": [],
   "source": [
    "atlas = sc.read_h5ad(\n",
    "    \"/home/sturm/projects/2020/pircher-scrnaseq-lung/data/20_build_atlas/add_additional_datasets/03_update_annotation/artifacts/full_atlas_merged.h5ad\"\n",
    ")"
   ]
  },
  {
   "cell_type": "markdown",
   "id": "d50cfb86-fb49-4697-8028-26297c7ca821",
   "metadata": {},
   "source": [
    "### Copy UKIM-V dataset without change"
   ]
  },
  {
   "cell_type": "code",
   "execution_count": 3,
   "id": "a3f1e2db-dc00-445e-8ff3-4722fcaa62a8",
   "metadata": {},
   "outputs": [],
   "source": [
    "ukimv1 = sc.read_h5ad(\"../data/input_data_raw/ukim_v_batch1.h5ad\")"
   ]
  },
  {
   "cell_type": "code",
   "execution_count": 4,
   "id": "3069c454-4e04-4c28-a56e-7ec1a1d08550",
   "metadata": {},
   "outputs": [],
   "source": [
    "ukimv2 = sc.read_h5ad(\"../data/input_data_raw/ukim_v_batch2.h5ad\")"
   ]
  },
  {
   "cell_type": "code",
   "execution_count": 5,
   "id": "05b43e5c-6776-468b-869b-c8614ef53eaa",
   "metadata": {},
   "outputs": [],
   "source": [
    "ukimv1.write_h5ad(\"../data/input_data_zenodo/ukim_v_batch1.h5ad\")"
   ]
  },
  {
   "cell_type": "code",
   "execution_count": 6,
   "id": "44d6068e-15a4-46e2-8517-163b874adeb7",
   "metadata": {},
   "outputs": [],
   "source": [
    "ukimv2.write_h5ad(\"../data/input_data_zenodo/ukim_v_batch2.h5ad\")"
   ]
  },
  {
   "cell_type": "markdown",
   "id": "31772ace-346d-4ada-bcc0-7f1c17380e9b",
   "metadata": {},
   "source": [
    "### Add known cell-type annotations to Maynard/Lambrechts (to skip seed annotation)"
   ]
  },
  {
   "cell_type": "markdown",
   "id": "d24a5a9d-727e-44f0-9c07-11d8db4e9a23",
   "metadata": {},
   "source": [
    "#### Maynard"
   ]
  },
  {
   "cell_type": "code",
   "execution_count": 7,
   "id": "f4a993d8-48ae-4ec0-bcb0-55a798a067db",
   "metadata": {},
   "outputs": [],
   "source": [
    "maynard = sc.read_h5ad(\"../data/input_data_raw/maynard2020.h5ad\")"
   ]
  },
  {
   "cell_type": "code",
   "execution_count": 8,
   "id": "c11126ad-2ea1-4f3c-a4a2-511b48ce219c",
   "metadata": {},
   "outputs": [],
   "source": [
    "obs_maynard = atlas[atlas.obs[\"dataset\"] == \"Maynard_Bivona_2020\"].obs\n",
    "obs_maynard.index = obs_maynard.index.str.replace(\"-\\d+$\", \"\", regex=True)"
   ]
  },
  {
   "cell_type": "code",
   "execution_count": 9,
   "id": "df6fa9e0-45a4-44da-9171-ba0ad18a9413",
   "metadata": {},
   "outputs": [],
   "source": [
    "maynard.obs[\"cell_type_salcher\"] = obs_maynard[\"cell_type\"]"
   ]
  },
  {
   "cell_type": "code",
   "execution_count": 10,
   "id": "136f12ea-e795-43d2-9349-16aa49e0ccef",
   "metadata": {},
   "outputs": [],
   "source": [
    "maynard.write_h5ad(\"../data/input_data_zenodo/maynard2020.h5ad\")"
   ]
  },
  {
   "cell_type": "code",
   "execution_count": 11,
   "id": "242361cd-f231-4c46-b68f-b4525ede99bd",
   "metadata": {},
   "outputs": [],
   "source": [
    "# sc.pp.highly_variable_genes(obs_maynard, n_top_genes=2000, flavor=\"seurat_v3\")\n",
    "# sc.pp.normalize_total(obs_maynard)\n",
    "# sc.pp.log1p(obs_maynard)"
   ]
  },
  {
   "cell_type": "markdown",
   "id": "236fc583-bf43-4625-a306-7ece88425f7e",
   "metadata": {},
   "source": [
    "#### Lambrechts"
   ]
  },
  {
   "cell_type": "code",
   "execution_count": 12,
   "id": "38f9c508-d914-47e2-a1c0-e2b0af738edd",
   "metadata": {},
   "outputs": [],
   "source": [
    "lambrechts = sc.read_h5ad(\"../data/input_data_raw/lambrechts_2018_luad_6653.h5ad\")"
   ]
  },
  {
   "cell_type": "code",
   "execution_count": 13,
   "id": "a8bddae3-3d87-48b0-b830-a057023988a8",
   "metadata": {},
   "outputs": [],
   "source": [
    "obs_lambrechts = atlas[atlas.obs[\"dataset\"] == \"Lambrechts_Thienpont_2018_6653\"].obs\n",
    "obs_lambrechts.index = obs_lambrechts.index.str.replace(\"-\\d+$\", \"\", regex=True)"
   ]
  },
  {
   "cell_type": "code",
   "execution_count": 14,
   "id": "8a149be5-1a35-43ed-9faa-a35ca91159dc",
   "metadata": {},
   "outputs": [],
   "source": [
    "lambrechts.obs[\"cell_type_salcher\"] = obs_lambrechts[\"cell_type\"]"
   ]
  },
  {
   "cell_type": "code",
   "execution_count": 15,
   "id": "8398e02a-df29-41c9-8174-226f6a41fe74",
   "metadata": {},
   "outputs": [],
   "source": [
    "lambrechts.write_h5ad(\"../data/input_data_zenodo/lambrechts_2018_luad_6653.h5ad\")"
   ]
  },
  {
   "cell_type": "code",
   "execution_count": 16,
   "id": "0938cd3b-424b-443e-9921-c0dbfcae3469",
   "metadata": {},
   "outputs": [],
   "source": [
    "# sc.pp.highly_variable_genes(lambrechts, n_top_genes=2000, flavor=\"seurat_v3\")\n",
    "# sc.pp.normalize_total(lambrechts)\n",
    "# sc.pp.log1p(lambrechts)\n",
    "# sc.tl.pca(lambrechts)\n",
    "# sc.pp.neighbors(lambrechts)\n",
    "# sc.tl.umap(lambrechts)"
   ]
  },
  {
   "cell_type": "code",
   "execution_count": 17,
   "id": "b0dc024c-28d8-41d9-8dbb-1d08b0647a14",
   "metadata": {},
   "outputs": [],
   "source": [
    "# sc.pl.umap(lambrechts, color=[\"patient\", \"cell_type\"])"
   ]
  },
  {
   "cell_type": "code",
   "execution_count": 18,
   "id": "6f556f66-730c-4fb8-88dd-ac21b7781482",
   "metadata": {},
   "outputs": [],
   "source": [
    "# sc.tl.leiden(lambrechts)"
   ]
  },
  {
   "cell_type": "code",
   "execution_count": 19,
   "id": "a4843596-89c2-4782-a95e-59bafc5da25d",
   "metadata": {},
   "outputs": [],
   "source": [
    "# sc.pl.umap(lambrechts, color=\"leiden\")"
   ]
  }
 ],
 "metadata": {
  "kernelspec": {
   "display_name": "Python [conda env:conda-2023-atlas-protocol]",
   "language": "python",
   "name": "conda-env-conda-2023-atlas-protocol-py"
  },
  "language_info": {
   "codemirror_mode": {
    "name": "ipython",
    "version": 3
   },
   "file_extension": ".py",
   "mimetype": "text/x-python",
   "name": "python",
   "nbconvert_exporter": "python",
   "pygments_lexer": "ipython3",
   "version": "3.10.10"
  }
 },
 "nbformat": 4,
 "nbformat_minor": 5
}
