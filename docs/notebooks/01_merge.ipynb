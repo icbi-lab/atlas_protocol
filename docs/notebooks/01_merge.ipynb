{
 "cells": [
  {
   "cell_type": "markdown",
   "metadata": {},
   "source": [
    "# Merge datasets, harmonize annotations and metadata\n",
    "\n",
    "Integrating single-cell RNA-seq datasets from multiple sources can provide numerous benefits, including increased statistical power, validation of findings across diverse conditions, and the identification of novel gene expression patterns that may be challenging to detect in individual datasets. However, the merging process presents two major challenges: harmonizing gene annotations and metadata across datasets to ensure consistency in downstream analyses.\n",
    "\n",
    "\n",
    ":::{Important}\n",
    "**types of metadata**\n",
    "\n",
    "There are essentially four different levels of metadata that need to be gathered and organized:\n",
    "\n",
    " * study metadata\n",
    " * patient metadata\n",
    " * sample metadata\n",
    " * cell metadata\n",
    " \n",
    "Commonly, this information can be found in the original publication, either in the methods section or supplementary tables. Some metadata might also be available on data repositories such as [GEO](https://www.ncbi.nlm.nih.gov/geo/), [SRA](https://www.ncbi.nlm.nih.gov/sra), [Zenodo](https://zenodo.org), [cellxgene](https://cellxgene.cziscience.com), [synapse](https://www.synapse.org), or custom webpages that were created for a specific study. As a last resort, you can contact the authors for assistance.\n",
    ":::\n",
    "\n",
    ":::{See also}\n",
    "- An example of how to organize metadata across multiple datasets can be found in the study conducted by {cite}`zilbauer2023`.\n",
    "- [sfaira](https://sfaira.readthedocs.io/en/latest/): Framework to organize and use publicly available datasets: {cite}`fischer2021sfaira`\n",
    ":::\n",
    "\n",
    ":::{Study metadata}\n",
    "Typical examples:\n",
    "\n",
    " - sequencing platform: Smartseq vs 10x 3' v1/v2/v3, 10x 5', etc.\n",
    " - tissue prcessing: fresh vs. frozen\n",
    " - protocol: single cell vs. single nuclei\n",
    " - prior cell type enrichment: naive, CD45+, etc.\n",
    " \n",
    "In addition, it is worth noting whether there are supplementary assays, such as VDJ-seq and/or CITE-seq data, that can help resolve immune cell heterogeneity\n",
    ":::\n",
    "\n",
    ":::{Patient metadata}\n",
    "Typical examples:\n",
    "\n",
    " - sex: male vs. female\n",
    " - age\n",
    " - ethnicity\n",
    " - treatment status: naive vs. treated\n",
    ":::\n",
    "\n",
    ":::{Sample metadata}\n",
    "Typical examples:\n",
    "\n",
    " - sample type: tumor/normal/pbmc/metastasis/etc.\n",
    " - sample tissue: colon/liver/lymph node/blood/etc.\n",
    " - primary tumor location\n",
    " - tumor stage: e.g. TNM system\n",
    " - histological tumor type\n",
    " - known driver mutations\n",
    ":::\n",
    "\n",
    ":::{Cell metadata}\n",
    "If available, the cell type annotation from the original study can be used for reference mapping. See <!-- [link to chapter](TODO) --> \n",
    ":::"
   ]
  },
  {
   "cell_type": "markdown",
   "metadata": {},
   "source": [
    "## 1. Load the required libaries and datasets"
   ]
  },
  {
   "cell_type": "code",
   "execution_count": 1,
   "metadata": {},
   "outputs": [],
   "source": [
    "import anndata\n",
    "import atlas_protocol_scripts as aps\n",
    "import numpy as np\n",
    "import pandas as pd\n",
    "import scanpy as sc\n",
    "import yaml"
   ]
  },
  {
   "cell_type": "code",
   "execution_count": null,
   "metadata": {},
   "outputs": [],
   "source": [
    "out_dir = \"../../data/results/merge/\"\n",
    "!mkdir -p {out_dir}"
   ]
  },
  {
   "cell_type": "code",
   "execution_count": 2,
   "metadata": {},
   "outputs": [],
   "source": [
    "DATASETS = {\n",
    "    \"maynard_2020\": \"../../data/input_data_raw/maynard2020.h5ad\",\n",
    "    \"lambrechts_2018\": \"../../data/input_data_raw/lambrechts_2018_luad_6653.h5ad\",\n",
    "    \"ukim-v\": \"../../data/input_data_raw/ukim_v_batch1.h5ad\",\n",
    "}"
   ]
  },
  {
   "cell_type": "code",
   "execution_count": 3,
   "metadata": {},
   "outputs": [],
   "source": [
    "datasets = {dataset_id: sc.read_h5ad(path) for dataset_id, path in DATASETS.items()}"
   ]
  },
  {
   "cell_type": "code",
   "execution_count": 4,
   "metadata": {},
   "outputs": [
    {
     "data": {
      "text/plain": [
       "{'maynard_2020': 'X does not contain all integers'}"
      ]
     },
     "execution_count": 4,
     "metadata": {},
     "output_type": "execute_result"
    }
   ],
   "source": [
    "# Check that adata.X contains integers - requirement for scvi-tools integration\n",
    "errors = {}\n",
    "for name, adata in datasets.items():\n",
    "    try:\n",
    "        assert np.all(np.modf(adata.X.data)[0] == 0)\n",
    "    except AssertionError:\n",
    "        errors[name] = \"X does not contain all integers\"\n",
    "errors"
   ]
  },
  {
   "cell_type": "code",
   "execution_count": 5,
   "metadata": {},
   "outputs": [],
   "source": [
    "# Round length corrected plate-based study\n",
    "datasets[\"maynard_2020\"].X.data = np.ceil(datasets[\"maynard_2020\"].X.data).astype(int)"
   ]
  },
  {
   "cell_type": "markdown",
   "metadata": {},
   "source": [
    "## 2. Harmonize metadata\n",
    "\n",
    "To ensure streamlined metadata across our datasets, we will use a custom reference metadata YAML file that specifies the desired columns and the permissible values for each column in `adata.obs`. Here is a shortened example of different key-value pairs along with descriptions:\n",
    "\n",
    "```{yaml}\n",
    "origin:\n",
    "    values:\n",
    "        - tumor_primary\n",
    "        - normal_adjacent\n",
    "        - tumor_edge\n",
    "        - tumor_middle\n",
    "        - tumor_metastasis\n",
    "        - nan\n",
    "    description: Sample origin\n",
    "condition:\n",
    "    values:\n",
    "        - LUAD\n",
    "        - LSCC\n",
    "        - NSCLC\n",
    "    description:\n",
    "        Lung adenocarcinoma (LUAD) and lung squamous cell carcinoma (LSCC)\n",
    "        are the most common subtypes of non-small-cell lung cancer (NSCLC)\n",
    "platform:\n",
    "    values:\n",
    "        - 10x_3p_v2\n",
    "        - smartseq2\n",
    "        - bd_rhapsody\n",
    "    description: Protocol that was used for single cell sequencing\n",
    "```\n",
    "\n",
    "The reference metadata YAML file serves as the primary location to define key-value pairs for different metadata columns, and any additional metadata columns can be easily added. It enables easy querying of allowed values during metadata collection. Furthermore, we will use it as a final check to ensure that all columns in the merged `adata.obs` follow the defined conventions using a helper function {func}`~atlas_protocol_scripts.pp.validate_obs`."
   ]
  },
  {
   "cell_type": "code",
   "execution_count": 6,
   "metadata": {},
   "outputs": [],
   "source": [
    "# Read the YAML file and load it into a dictionary\n",
    "file_path = \"../../tables/meta_reference.yaml\"\n",
    "with open(file_path) as f:\n",
    "    ref_meta_dict = yaml.load(f, Loader=yaml.Loader)"
   ]
  },
  {
   "cell_type": "code",
   "execution_count": 7,
   "metadata": {},
   "outputs": [
    {
     "data": {
      "text/plain": [
       "['dataset',\n",
       " 'sample',\n",
       " 'origin',\n",
       " 'tissue',\n",
       " 'condition',\n",
       " 'patient',\n",
       " 'sex',\n",
       " 'age',\n",
       " 'cell_type_salcher',\n",
       " 'platform']"
      ]
     },
     "execution_count": 7,
     "metadata": {},
     "output_type": "execute_result"
    }
   ],
   "source": [
    "# List reference columns from meta yaml file\n",
    "ref_meta_cols = []\n",
    "for key, _sub_dict in ref_meta_dict.items():\n",
    "    ref_meta_cols.append(key)\n",
    "ref_meta_cols"
   ]
  },
  {
   "cell_type": "code",
   "execution_count": 8,
   "metadata": {},
   "outputs": [
    {
     "ename": "ValueError",
     "evalue": "Missing columns: dataset, platform",
     "output_type": "error",
     "traceback": [
      "\u001b[0;31m---------------------------------------------------------------------------\u001b[0m",
      "\u001b[0;31mValueError\u001b[0m                                Traceback (most recent call last)",
      "Cell \u001b[0;32mIn[8], line 4\u001b[0m\n\u001b[1;32m      3\u001b[0m \u001b[38;5;28;01mtry\u001b[39;00m:\n\u001b[0;32m----> 4\u001b[0m     \u001b[43maps\u001b[49m\u001b[38;5;241;43m.\u001b[39;49m\u001b[43mpp\u001b[49m\u001b[38;5;241;43m.\u001b[39;49m\u001b[43mvalidate_obs\u001b[49m\u001b[43m(\u001b[49m\u001b[43madata\u001b[49m\u001b[38;5;241;43m.\u001b[39;49m\u001b[43mobs\u001b[49m\u001b[43m,\u001b[49m\u001b[43m \u001b[49m\u001b[43mref_meta_dict\u001b[49m\u001b[43m)\u001b[49m\n\u001b[1;32m      5\u001b[0m \u001b[38;5;28;01mexcept\u001b[39;00m \u001b[38;5;167;01mValueError\u001b[39;00m \u001b[38;5;28;01mas\u001b[39;00m e:\n",
      "File \u001b[0;32m/data/scratch/marteau/tmp/rm/atlas_protocol/src/atlas_protocol_scripts/pp/_check_metadata.py:52\u001b[0m, in \u001b[0;36mvalidate_obs\u001b[0;34m(adata_obs, ref_meta_dict, keys_to_ignore)\u001b[0m\n\u001b[1;32m     51\u001b[0m     missing_cols_str \u001b[38;5;241m=\u001b[39m \u001b[38;5;124m\"\u001b[39m\u001b[38;5;124m, \u001b[39m\u001b[38;5;124m\"\u001b[39m\u001b[38;5;241m.\u001b[39mjoin(missing_col \u001b[38;5;28;01mfor\u001b[39;00m missing_col \u001b[38;5;129;01min\u001b[39;00m expected_cols \u001b[38;5;28;01mif\u001b[39;00m missing_col \u001b[38;5;129;01min\u001b[39;00m missing_cols)\n\u001b[0;32m---> 52\u001b[0m     \u001b[38;5;28;01mraise\u001b[39;00m \u001b[38;5;167;01mValueError\u001b[39;00m(\u001b[38;5;124mf\u001b[39m\u001b[38;5;124m\"\u001b[39m\u001b[38;5;124mMissing columns: \u001b[39m\u001b[38;5;132;01m{\u001b[39;00mmissing_cols_str\u001b[38;5;132;01m}\u001b[39;00m\u001b[38;5;124m\"\u001b[39m)\n\u001b[1;32m     54\u001b[0m \u001b[38;5;66;03m# Check if keys are present as columns and verify values if present (except keys_to_ignore)\u001b[39;00m\n",
      "\u001b[0;31mValueError\u001b[0m: Missing columns: dataset, platform",
      "\nDuring handling of the above exception, another exception occurred:\n",
      "\u001b[0;31mValueError\u001b[0m                                Traceback (most recent call last)",
      "Cell \u001b[0;32mIn[8], line 6\u001b[0m\n\u001b[1;32m      4\u001b[0m     aps\u001b[38;5;241m.\u001b[39mpp\u001b[38;5;241m.\u001b[39mvalidate_obs(adata\u001b[38;5;241m.\u001b[39mobs, ref_meta_dict)\n\u001b[1;32m      5\u001b[0m \u001b[38;5;28;01mexcept\u001b[39;00m \u001b[38;5;167;01mValueError\u001b[39;00m \u001b[38;5;28;01mas\u001b[39;00m e:\n\u001b[0;32m----> 6\u001b[0m     \u001b[38;5;28;01mraise\u001b[39;00m \u001b[38;5;167;01mValueError\u001b[39;00m(e\u001b[38;5;241m.\u001b[39margs[\u001b[38;5;241m0\u001b[39m])\n",
      "\u001b[0;31mValueError\u001b[0m: Missing columns: dataset, platform"
     ]
    }
   ],
   "source": [
    "# Loop over datasets and apply validate_obs function to check if all columns are present across all datasets\n",
    "for key, adata in datasets.items():\n",
    "    try:\n",
    "        aps.pp.validate_obs(adata.obs, ref_meta_dict)\n",
    "    except ValueError as e:\n",
    "        raise ValueError(e.args[0])"
   ]
  },
  {
   "cell_type": "markdown",
   "metadata": {},
   "source": [
    "The `ValueError` tells us that we need to add missing metadata columns in some of the datasets."
   ]
  },
  {
   "cell_type": "code",
   "execution_count": 9,
   "metadata": {
    "tags": []
   },
   "outputs": [
    {
     "data": {
      "text/plain": [
       "{'values': ['10x_3p_v2', 'smartseq2', 'bd_rhapsody'],\n",
       " 'description': 'Protocol that was used for single cell sequencing'}"
      ]
     },
     "execution_count": 9,
     "metadata": {},
     "output_type": "execute_result"
    }
   ],
   "source": [
    "# Search reference dict for permissible values of missing columns\n",
    "ref_meta_dict[\"platform\"]"
   ]
  },
  {
   "cell_type": "code",
   "execution_count": 10,
   "metadata": {},
   "outputs": [],
   "source": [
    "# Add missing metadata: we will need \"dataset\" to make patient and sample ids unique; \"platform\" to check how well the integration worked; \"cell_type_salcher\" for seed annotation.\n",
    "datasets[\"maynard_2020\"].obs[\"dataset\"] = \"maynard_2020\"\n",
    "datasets[\"maynard_2020\"].obs[\"platform\"] = \"smartseq2\"\n",
    "\n",
    "datasets[\"ukim-v\"].obs[\"dataset\"] = \"ukim-v\"\n",
    "datasets[\"ukim-v\"].obs[\"platform\"] = \"bd_rhapsody\"\n",
    "datasets[\"ukim-v\"].obs[\"cell_type_salcher\"] = \"Unknown\""
   ]
  },
  {
   "cell_type": "code",
   "execution_count": 11,
   "metadata": {},
   "outputs": [],
   "source": [
    "# Loop over datasets and apply validate_obs function. Additionally, we will exclude columns from the permissible values check that are expected to be unique within each dataset.\n",
    "for key, adata in datasets.items():\n",
    "    try:\n",
    "        aps.pp.validate_obs(\n",
    "            adata.obs,\n",
    "            ref_meta_dict,\n",
    "            keys_to_ignore=[\"dataset\", \"sample\", \"patient\", \"cell_type_salcher\"],\n",
    "        )\n",
    "    except ValueError as e:\n",
    "        raise ValueError(e.args[0])"
   ]
  },
  {
   "cell_type": "code",
   "execution_count": 12,
   "metadata": {},
   "outputs": [],
   "source": [
    "# Subset adata.obs columns to keep only reference columns from meta yaml file\n",
    "for adata in datasets:\n",
    "    datasets[adata].obs = datasets[adata].obs[ref_meta_cols]"
   ]
  },
  {
   "cell_type": "markdown",
   "metadata": {},
   "source": [
    "## 3. Harmonize gene annotations\n",
    "\n",
    "Ideally, access to raw FASTQ files would allow mapping to the same reference genome and annotations. However, in many cases, only processed data is available that may have been mapped to different genome annotations or versions. The two most commonly used gene annotation sources are [GENCODE](https://www.gencodegenes.org) and [Ensembl](https://www.ensembl.org/index.html), which offer standardized gene models and annotations for various organisms.\n",
    "\n",
    "While it is possible to perform gene symbol-based integration, this approach is not always accurate, as gene symbols are not unique and can change between annotation versions. In contrast, before integrating the datasets we will map the available gene ids to the more consistent ensembl gene IDs that will enhance the accuracy and reproducibility of downstream analyses.\n",
    "\n",
    ":::{note}\n",
    "**ENSG id conversion between versions:**\n",
    "\n",
    " - If the ENSG ID remains unchanged, it signifies that the gene structure remains the same, while updated structures will have different ENSG IDs.\n",
    " - Newer annotation versions often include additional annotated transcripts. It's important to note that most of these transcripts are non-protein coding. Without access to fastq files, it is not possible to update the annotations to incorporate these newly annotated transcripts.\n",
    " - Deprecated ENSG IDs will be absent from newer annotations.\n",
    "\n",
    "Once merged, we will update all annotations using the most recent reference, and any deprecated IDs will be removed to obtain the best possible updated version.\n",
    ":::\n",
    "\n",
    ":::{See also}\n",
    " - {cite}`bruford2020`\n",
    ":::\n",
    "\n",
    ":::{Alternative approaches}\n",
    " - [python gtfparse](https://github.com/openvax/gtfparse) is an alternative tool for loading a gtf file into Python\n",
    " - When using gene symbols for mapping, it is recommended to update them using libraries such as [mygene-py](https://docs.mygene.info/projects/mygene-py/en/latest/) or by using the ensembl biomart aliases [ensembl biomart aliases](https://biomart.genenames.org) before merging the datasets.\n",
    ":::"
   ]
  },
  {
   "cell_type": "code",
   "execution_count": null,
   "metadata": {},
   "outputs": [],
   "source": [
    "# Load reference gtf for gene mapping, and create a dictonary with symbol-ENSG ID pairs.\n",
    "gtf_path = \"../../tables/gencode.v32_gene_annotation_table.csv\"\n",
    "gtf = pd.read_csv(gtf_path)\n",
    "\n",
    "# When making var_names unique, both Scanpy and Seurat typically append a sequential number to duplicate gene symbols.\n",
    "# To match all symbol-ENSG ID pairs, we need to emulate this sequential numbering approach.\n",
    "gtf = aps.pp.append_duplicate_suffix(df=gtf, column=\"GeneSymbol\", sep=\"-\")\n",
    "gene_ids = gtf.set_index(\"GeneSymbol\")[\"Geneid\"].to_dict()"
   ]
  },
  {
   "cell_type": "code",
   "execution_count": 15,
   "metadata": {},
   "outputs": [],
   "source": [
    "# 1. Map the dictonary to available symbol annotation and fill missing keys with the respective symbol to create new column \"ensembl\".\n",
    "# 2. Remove Ensembl ID version numbers and set column \"ensembl\" as var_names.\n",
    "\n",
    "datasets[\"lambrechts_2018\"].var = (\n",
    "    datasets[\"lambrechts_2018\"].var.rename_axis(\"symbol\").reset_index()\n",
    ")\n",
    "datasets[\"lambrechts_2018\"].var[\"ensembl\"] = (\n",
    "    datasets[\"lambrechts_2018\"]\n",
    "    .var[\"symbol\"]\n",
    "    .map(gene_ids)\n",
    "    .fillna(value=datasets[\"lambrechts_2018\"].var[\"symbol\"])\n",
    ")\n",
    "datasets[\"lambrechts_2018\"].var_names = (\n",
    "    datasets[\"lambrechts_2018\"].var[\"ensembl\"].apply(aps.pp.remove_gene_version)\n",
    ")\n",
    "\n",
    "datasets[\"maynard_2020\"].var.reset_index(inplace=True)\n",
    "datasets[\"maynard_2020\"].var_names = (\n",
    "    datasets[\"maynard_2020\"].var[\"ensg\"].apply(aps.pp.remove_gene_version)\n",
    ")\n",
    "\n",
    "datasets[\"ukim-v\"].var.reset_index(inplace=True)\n",
    "datasets[\"ukim-v\"].var[\"ensembl\"] = (\n",
    "    datasets[\"ukim-v\"]\n",
    "    .var[\"Gene\"]\n",
    "    .map(gene_ids)\n",
    "    .fillna(value=datasets[\"ukim-v\"].var[\"Gene\"])\n",
    ")\n",
    "datasets[\"ukim-v\"].var_names = (\n",
    "    datasets[\"ukim-v\"].var[\"ensembl\"].apply(aps.pp.remove_gene_version)\n",
    ")"
   ]
  },
  {
   "cell_type": "code",
   "execution_count": 16,
   "metadata": {},
   "outputs": [
    {
     "name": "stdout",
     "output_type": "stream",
     "text": [
      "maynard_2020 : 0\n",
      "lambrechts_2018 : 0\n",
      "ukim-v : 582\n"
     ]
    }
   ],
   "source": [
    "# Look how many genes were not mapped to ensembl ids\n",
    "unmapped_dict = {}\n",
    "for name, data in datasets.items():\n",
    "    unmapped_genes = aps.pp.find_unmapped_genes(data)\n",
    "    print(name, \":\", len(unmapped_genes))\n",
    "    unmapped_dict[name] = unmapped_genes"
   ]
  },
  {
   "cell_type": "code",
   "execution_count": 17,
   "metadata": {},
   "outputs": [],
   "source": [
    "# Remove genes without ensembl ids from the datasets\n",
    "datasets[\"ukim-v\"] = datasets[\"ukim-v\"][\n",
    "    :, (datasets[\"ukim-v\"].var_names.str.startswith(\"ENSG\"))\n",
    "]"
   ]
  },
  {
   "cell_type": "markdown",
   "metadata": {},
   "source": [
    ":::{note}\n",
    "To achieve the best match between ENSG IDs and gene symbols, it is advisable to use the annotation that was originally used for mapping. This information is typically available in the methods section of the paper or can be obtained from the associated data repository. If it is unavailable, an alternative approach is to deduce the annotation by downloading different versions and checking the number of unmapped genes after mapping.\n",
    ":::"
   ]
  },
  {
   "cell_type": "code",
   "execution_count": 18,
   "metadata": {},
   "outputs": [],
   "source": [
    "# Aggregate counts with the same id\n",
    "for adata in datasets:\n",
    "    duplicated_ids = (\n",
    "        datasets[adata].var_names[datasets[adata].var_names.duplicated()].unique()\n",
    "    )\n",
    "    datasets[adata] = aps.pp.aggregate_duplicate_gene_ids(\n",
    "        datasets[adata], duplicated_ids\n",
    "    )\n",
    "    assert datasets[adata].var_names.is_unique\n",
    "    assert datasets[adata].obs_names.is_unique"
   ]
  },
  {
   "cell_type": "code",
   "execution_count": 19,
   "metadata": {},
   "outputs": [],
   "source": [
    "# Clean input data by removing not needed data\n",
    "for col in [\"counts_length_scaled\", \"tpm\"]:\n",
    "    del datasets[\"maynard_2020\"].layers[col]\n",
    "\n",
    "del datasets[\"ukim-v\"].obsm[\"surface_protein\"]"
   ]
  },
  {
   "cell_type": "markdown",
   "metadata": {},
   "source": [
    "## 4. Concat datasets to single adata"
   ]
  },
  {
   "cell_type": "markdown",
   "metadata": {},
   "source": [
    "Finally the datasets are ready to be merged. We will also use the latest gene annotation from ensembl to update the gene ids and symbols. We could also use gencode."
   ]
  },
  {
   "cell_type": "code",
   "execution_count": 20,
   "metadata": {},
   "outputs": [],
   "source": [
    "# Outer join to keep all genes, fill_value=0 assuming that the removed gene expression was 0 or close to zero!\n",
    "adata = anndata.concat(datasets, index_unique=\"_\", join=\"outer\", fill_value=0)"
   ]
  },
  {
   "cell_type": "code",
   "execution_count": 21,
   "metadata": {},
   "outputs": [],
   "source": [
    "# Make sure samples are unique\n",
    "adata.obs[\"sample\"] = [\n",
    "    f\"{dataset}_{sample}\"\n",
    "    for dataset, sample in zip(adata.obs[\"dataset\"], adata.obs[\"sample\"])\n",
    "]\n",
    "\n",
    "# Append dataset and sample info to barcodes\n",
    "adata.obs_names = (\n",
    "    adata.obs[\"dataset\"].astype(str)\n",
    "    + \"_\"\n",
    "    + adata.obs[\"sample\"].astype(str)\n",
    "    + \"_\"\n",
    "    + adata.obs_names.str.split(\"_\").str[0]\n",
    ")"
   ]
  },
  {
   "cell_type": "code",
   "execution_count": 22,
   "metadata": {},
   "outputs": [],
   "source": [
    "# Get latest ensembl annoation to update our genes\n",
    "gtf_path = \"../../tables/Homo_sapiens.GRCh38.109_gene_annotation_table.csv\"\n",
    "gtf = pd.read_csv(gtf_path)\n",
    "gtf[\"ensembl\"] = gtf[\"gene_id\"].apply(aps.pp.remove_gene_version)\n",
    "gtf[\"var_names\"] = gtf[\"gene_name\"].fillna(gtf[\"ensembl\"])\n",
    "gtf = aps.pp.append_duplicate_suffix(df=gtf, column=\"var_names\", sep=\"-\")"
   ]
  },
  {
   "cell_type": "code",
   "execution_count": 23,
   "metadata": {},
   "outputs": [],
   "source": [
    "adata.var = pd.merge(\n",
    "    pd.DataFrame({\"ensembl\": adata.var_names}),\n",
    "    gtf,\n",
    "    how=\"left\",\n",
    "    on=\"ensembl\",\n",
    "    validate=\"m:1\",\n",
    ").set_index(\"ensembl\")\n",
    "\n",
    "# Reorder by gtf (i.e. chromosome position)\n",
    "gene_index = gtf[gtf[\"ensembl\"].isin(adata.var_names)][\"ensembl\"].values\n",
    "adata = adata[:, gene_index]\n",
    "\n",
    "adata.var = adata.var.reset_index(\"ensembl\")\n",
    "\n",
    "# Put up to date gene symbols as var_names\n",
    "adata.var_names = adata.var[\"var_names\"].values\n",
    "adata.var_names_make_unique()\n",
    "del adata.var[\"var_names\"]\n",
    "adata.var_names.name = None"
   ]
  },
  {
   "cell_type": "code",
   "execution_count": 30,
   "metadata": {},
   "outputs": [],
   "source": [
    "# Filter genes: must be expressed in at least 25 percent of the samples\n",
    "adata.obs[\"sample\"] = pd.Categorical(\n",
    "    adata.obs[\"sample\"], categories=adata.obs[\"sample\"].unique()\n",
    ")\n",
    "\n",
    "res = pd.DataFrame(columns=adata.var_names, index=adata.obs[\"sample\"].cat.categories)\n",
    "for sample in adata.obs[\"sample\"].cat.categories:\n",
    "    res.loc[sample] = adata[adata.obs[\"sample\"].isin([sample]), :].X.sum(0)\n",
    "\n",
    "keep = res.columns[res[res == 0].count(axis=0) / len(res.index) >= 0.25]"
   ]
  },
  {
   "cell_type": "markdown",
   "metadata": {},
   "source": [
    ":::{important}\n",
    "Check your gene filter cut-off, particularly when dealing with a limited number of samples/datasets and/or studies with prior cell type enrichment. Setting an overly stringent filter may result in the loss of important marker genes that could be valuable for downstream analyses.\n",
    ":::"
   ]
  },
  {
   "cell_type": "code",
   "execution_count": 34,
   "metadata": {},
   "outputs": [],
   "source": [
    "# Subset adata to remove genes that dont pass the cut-off\n",
    "adata = adata[:, keep].copy()"
   ]
  },
  {
   "cell_type": "code",
   "execution_count": 37,
   "metadata": {},
   "outputs": [],
   "source": [
    "assert adata.var_names.is_unique\n",
    "assert adata.obs_names.is_unique"
   ]
  },
  {
   "cell_type": "code",
   "execution_count": 38,
   "metadata": {},
   "outputs": [
    {
     "data": {
      "text/plain": [
       "AnnData object with n_obs × n_vars = 94132 × 42256\n",
       "    obs: 'dataset', 'sample', 'origin', 'tissue', 'condition', 'patient', 'sex', 'age', 'cell_type_salcher', 'platform'\n",
       "    var: 'ensembl', 'gene_id', 'gene_name', 'chromosome', 'start', 'end', 'gene_biotype', 'gene_source', 'strand', 'length'"
      ]
     },
     "execution_count": 38,
     "metadata": {},
     "output_type": "execute_result"
    }
   ],
   "source": [
    "# Look at final adata\n",
    "adata"
   ]
  },
  {
   "cell_type": "markdown",
   "metadata": {},
   "source": [
    "## 5. Store result"
   ]
  },
  {
   "cell_type": "code",
   "execution_count": null,
   "metadata": {},
   "outputs": [],
   "source": [
    "adata.write_h5ad(f\"{out_dir}/adata.h5ad\")"
   ]
  }
 ],
 "metadata": {
  "kernelspec": {
   "display_name": "Python [conda env:CRCA-2023-crca-scanpy]",
   "language": "python",
   "name": "conda-env-CRCA-2023-crca-scanpy-py"
  },
  "language_info": {
   "codemirror_mode": {
    "name": "ipython",
    "version": 3
   },
   "file_extension": ".py",
   "mimetype": "text/x-python",
   "name": "python",
   "nbconvert_exporter": "python",
   "pygments_lexer": "ipython3",
   "version": "3.10.9"
  }
 },
 "nbformat": 4,
 "nbformat_minor": 4
}
