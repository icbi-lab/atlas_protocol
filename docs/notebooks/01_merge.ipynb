{
 "cells": [
  {
   "cell_type": "markdown",
   "metadata": {},
   "source": [
    "# Merge data and harmonized annotations"
   ]
  },
  {
   "cell_type": "markdown",
   "metadata": {},
   "source": [
    "Integrating single-cell RNA-seq datasets from multiple sources can provide numerous benefits, including increased statistical power, validation of findings across diverse conditions, and the identification of novel gene expression patterns that may be challenging to detect in individual datasets. Ideally, access to raw FASTQ files would allow mapping to the same reference genome and annotations. However, in many cases, only processed data is available, which presents some challenges during data integration. For instance, the datasets may have been mapped to different genome annotations or versions, and sometimes provide only gene symbols.\n",
    "While it is possible to perform gene symbol-based integration, this approach is not always accurate, as gene symbols are not unique and can change between annotation versions. In contrast, before integrating the datasets we will map the available gene ids to the more consistent ensembl gene IDs that will enhance the accuracy and reproducibility of downstream analyses.\n",
    "\n",
    "The two most commonly used gene annotation sources are GENCODE and Ensembl, which offer standardized gene models and annotations for various organisms. Between different versions the ensembl gene ids will only change if the gene structure changes.\n",
    "\n",
    "Explain a bit more here? (e.g in newer versions new genes might be added, nothing we can do about it,\n",
    "                            if the gene id is the same the mapped gene region should have stayed the same. -> perfect!\n",
    "                            if the gene id has changed that means the gene structure has changed and we should not use it any more!)"
   ]
  },
  {
   "cell_type": "markdown",
   "metadata": {
    "tags": []
   },
   "source": [
    "## 1. Load the required libaries"
   ]
  },
  {
   "cell_type": "code",
   "execution_count": null,
   "metadata": {},
   "outputs": [],
   "source": [
    "# import atlas_protocol_scripts as aps\n",
    "import anndata\n",
    "import pandas as pd\n",
    "import scanpy as sc"
   ]
  },
  {
   "cell_type": "code",
   "execution_count": null,
   "metadata": {},
   "outputs": [],
   "source": [
    "DATASETS = {\n",
    "    \"maynard_2020\": \"../../data/input_data_raw/maynard2020.h5ad\",\n",
    "    \"lambrechts_2018\": \"../../data/input_data_raw/lambrechts_2018_luad_6653.h5ad\",\n",
    "    \"ukim-v\": \"../../data/input_data_raw/ukim_v_batch1.h5ad\",\n",
    "}"
   ]
  },
  {
   "cell_type": "code",
   "execution_count": null,
   "metadata": {
    "lines_to_next_cell": 2
   },
   "outputs": [],
   "source": [
    "datasets = {dataset_id: sc.read_h5ad(path) for dataset_id, path in DATASETS.items()}"
   ]
  },
  {
   "cell_type": "code",
   "execution_count": null,
   "metadata": {},
   "outputs": [],
   "source": [
    "# Get gene annotations from gtf file, remove Ensembl version number and append back sex chromosome info to new column “Ensembl”\n",
    "def load_gtf(gtf_path):\n",
    "    gtf = pd.read_csv(gtf_path, delimiter=\"\\t\", skipinitialspace=True, dtype={\"Start\": object, \"End\": object})\n",
    "    gtf.insert(\n",
    "        0,\n",
    "        \"Ensembl\",\n",
    "        gtf[\"Geneid\"].str.replace(r\"\\.[^.]+$\", \"\")\n",
    "        + gtf[\"Geneid\"].str.contains(\"_PAR_Y\").replace({True: \"_PAR_Y\", False: \"\"}),\n",
    "    )\n",
    "    return gtf"
   ]
  },
  {
   "cell_type": "code",
   "execution_count": null,
   "metadata": {
    "lines_to_next_cell": 2
   },
   "outputs": [],
   "source": [
    "gencode_v43 = load_gtf(\"../../tables/gencode.v43_gene_annotation_table.txt\")\n",
    "gencode_v33 = load_gtf(\"../../tables/gencode.v33_gene_annotation_table.txt\")\n",
    "gencode_v32 = load_gtf(\"../../tables/gencode.v32_gene_annotation_table.txt\")"
   ]
  },
  {
   "cell_type": "markdown",
   "metadata": {
    "lines_to_next_cell": 2
   },
   "source": [
    "note: we will have the best match between gene ids and symbols if we use the annotation that was used for mapping, can usually be found in the methods section of the paper or on GEO etc."
   ]
  },
  {
   "cell_type": "code",
   "execution_count": null,
   "metadata": {},
   "outputs": [],
   "source": [
    "def update_gene_annotation(adata, gtf, var_col=\"var_names\", gtf_col=\"GeneSymbol\"):\n",
    "    \"\"\"Annotates the genes in adata.var with their corresponding gene annotations from a gene annotation file\n",
    "    and keeps the original columns in adata.var. Adata.var_names is set to “Ensembl” column from gtf file.\n",
    "\n",
    "    Parameters\n",
    "    ----------\n",
    "    adata : AnnData object\n",
    "    gtf : pandas.DataFrame object\n",
    "        A data frame containing gene annotation information\n",
    "    var_col : str, optional (default: “var_names”)\n",
    "        The name of the column in adata.var to merge on\n",
    "    gtf_col : str, optional (default: “GeneSymbol”)\n",
    "        The name of the column in gtf to merge on\n",
    "\n",
    "    Returns\n",
    "    -------\n",
    "    annotated AnnData object\n",
    "        Contains the mapped genes and their corresponding annotations.\n",
    "\n",
    "    Raises\n",
    "    ------\n",
    "    KeyError: If the “gtf_col” column is not present in the gene annotation data.\n",
    "    ValueError: If the “var_col” column is not unique.\n",
    "    \"\"\"\n",
    "    if gtf_col not in gtf.columns:\n",
    "        raise KeyError(f\"The gtf gene annotation data must contain a column named '{gtf_col}'\")\n",
    "\n",
    "    if var_col != \"var_names\":\n",
    "        adata = adata.copy()\n",
    "        var_index_name = adata.var_names.name\n",
    "        adata.var[\"original_var_names\"] = adata.var_names\n",
    "        adata.var_names = adata.var[var_col]\n",
    "    try:\n",
    "        assert adata.var_names.is_unique\n",
    "    except AssertionError:\n",
    "        raise ValueError(f\"'{var_col}' must be unique.\")\n",
    "\n",
    "    # Filter and remove duplicates from gene annotation data\n",
    "    mapped_genes = gtf[gtf[gtf_col].isin(adata.var_names)].drop_duplicates(gtf_col, keep=False)\n",
    "    mapped_genes = mapped_genes.reset_index(drop=True)\n",
    "\n",
    "    # Filter adata for mapped/notmapped genes\n",
    "    mapped_adata = adata[:, adata.var_names.isin(mapped_genes[gtf_col])].copy()\n",
    "\n",
    "    mapped_adata.var = pd.merge(\n",
    "        pd.DataFrame(mapped_adata.var).rename_axis(\"var_names\").reset_index(),\n",
    "        mapped_genes,\n",
    "        how=\"left\",\n",
    "        left_on=\"var_names\",\n",
    "        right_on=[gtf_col],\n",
    "        validate=\"m:1\",\n",
    "    ).set_index(\"Ensembl\")\n",
    "\n",
    "    if var_col != \"var_names\":\n",
    "        del mapped_adata.var[\"var_names\"]\n",
    "        mapped_adata.var.rename(columns={\"original_var_names\": var_index_name}, inplace=True)\n",
    "\n",
    "    return mapped_adata"
   ]
  },
  {
   "cell_type": "code",
   "execution_count": null,
   "metadata": {},
   "outputs": [],
   "source": [
    "params = [\n",
    "    {\"dataset\": \"maynard_2020\", \"gtf\": gencode_v33, \"var_col\": \"ensg\", \"gtf_col\": \"Geneid\"},\n",
    "    {\"dataset\": \"lambrechts_2018\", \"gtf\": gencode_v32, \"var_col\": \"var_names\", \"gtf_col\": \"GeneSymbol\"},\n",
    "    {\"dataset\": \"ukim-v\", \"gtf\": gencode_v32, \"var_col\": \"var_names\", \"gtf_col\": \"GeneSymbol\"},\n",
    "]"
   ]
  },
  {
   "cell_type": "code",
   "execution_count": null,
   "metadata": {},
   "outputs": [],
   "source": [
    "mapped_adata = {}\n",
    "for param in params:\n",
    "    dataset = param.pop(\"dataset\")\n",
    "    adata = datasets[dataset]\n",
    "    mapped_adata[dataset] = update_gene_annotation(adata, **param)"
   ]
  },
  {
   "cell_type": "markdown",
   "metadata": {},
   "source": [
    "# Have a look at not_mapped_genes + additional annotation of these"
   ]
  },
  {
   "cell_type": "code",
   "execution_count": null,
   "metadata": {},
   "outputs": [],
   "source": [
    "mapped = datasets[\"lambrechts_2018\"].var_names.isin(mapped_adata[\"lambrechts_2018\"].var[\"var_names\"])\n",
    "datasets[\"lambrechts_2018\"][:, ~mapped].var"
   ]
  },
  {
   "cell_type": "code",
   "execution_count": null,
   "metadata": {},
   "outputs": [],
   "source": [
    "mapped = datasets[\"ukim-v\"].var_names.isin(mapped_adata[\"ukim-v\"].var[\"var_names\"])\n",
    "datasets[\"ukim-v\"][:, ~mapped].var"
   ]
  },
  {
   "cell_type": "markdown",
   "metadata": {},
   "source": [
    "todo: show how to add not mapped genes manually"
   ]
  },
  {
   "cell_type": "markdown",
   "metadata": {},
   "source": [
    "# Concat datasets to single adata"
   ]
  },
  {
   "cell_type": "code",
   "execution_count": null,
   "metadata": {},
   "outputs": [],
   "source": [
    "# Outer join to keep all genes, fill_value=0 assuming that the removed gene expression was 0 or close to zero!\n",
    "adata = anndata.concat(mapped_adata, join=\"outer\", fill_value=0)\n",
    "\n",
    "adata.var = pd.merge(\n",
    "    pd.DataFrame({\"Ensembl\": adata.var_names}),\n",
    "    gencode_v43,\n",
    "    how=\"left\",\n",
    "    on=\"Ensembl\",\n",
    "    validate=\"m:1\",\n",
    ").set_index(\"Ensembl\", drop=False)\n",
    "\n",
    "adata.obs_names_make_unique()\n",
    "assert adata.obs_names.is_unique\n",
    "\n",
    "# Reorder by annotation and append back annotation info\n",
    "assert adata.var_names.is_unique\n",
    "adata = adata[:, gencode_v43.loc[gencode_v43[\"Ensembl\"].isin(adata.var_names), \"Ensembl\"].values]\n",
    "\n",
    "adata.var_names = adata.var[\"GeneSymbol\"]\n",
    "adata.var_names_make_unique()\n",
    "adata.var_names.name = None"
   ]
  },
  {
   "cell_type": "markdown",
   "metadata": {},
   "source": [
    "-> now we could for example only keep genes that are protein coding"
   ]
  },
  {
   "cell_type": "code",
   "execution_count": null,
   "metadata": {},
   "outputs": [],
   "source": [
    "adata_protein = adata[:, adata.var[\"Class\"] == \"protein_coding\"].copy()"
   ]
  },
  {
   "cell_type": "code",
   "execution_count": null,
   "metadata": {},
   "outputs": [],
   "source": [
    "adata_protein.var"
   ]
  },
  {
   "cell_type": "markdown",
   "metadata": {},
   "source": [
    "todo: remove adata.obs columns not needed in downstream analysis"
   ]
  },
  {
   "cell_type": "markdown",
   "metadata": {},
   "source": [
    "todo: have a threshold that removes genes if not present in at least 25 percent of studies?"
   ]
  }
 ],
 "metadata": {
  "kernelspec": {
   "display_name": "Python [conda env:CRCA-2023-crca-scanpy]",
   "language": "python",
   "name": "conda-env-CRCA-2023-crca-scanpy-py"
  },
  "language_info": {
   "codemirror_mode": {
    "name": "ipython",
    "version": 3
   },
   "file_extension": ".py",
   "mimetype": "text/x-python",
   "name": "python",
   "nbconvert_exporter": "python",
   "pygments_lexer": "ipython3",
   "version": "3.10.9"
  }
 },
 "nbformat": 4,
 "nbformat_minor": 4
}
