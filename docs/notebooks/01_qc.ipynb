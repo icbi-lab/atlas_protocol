{
 "cells": [
  {
   "attachments": {},
   "cell_type": "markdown",
   "metadata": {},
   "source": [
    "# Quality control and filtering\n",
    "\n",
    "```{note}\n",
    "**datasets vs. studies**: By “study”, we refer to a scientific publication, while with “dataset”, \n",
    "we refer to a set of samples that was generated using the same sequencing platform and processed in the same way.\n",
    "One study may contain one or multiple datasets. Datasets must be processed independently. \n",
    "```"
   ]
  },
  {
   "attachments": {},
   "cell_type": "markdown",
   "metadata": {},
   "source": []
  }
 ],
 "metadata": {
  "language_info": {
   "name": "python"
  },
  "orig_nbformat": 4
 },
 "nbformat": 4,
 "nbformat_minor": 2
}
