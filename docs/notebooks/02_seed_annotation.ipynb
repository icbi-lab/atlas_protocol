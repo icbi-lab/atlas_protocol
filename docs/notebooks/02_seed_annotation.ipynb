{
 "cells": [
  {
   "cell_type": "markdown",
   "metadata": {},
   "source": [
    "# cell-type annotation of \"seed\" datasets\n",
    "\n",
    "scVI and scANVI are variational autoencoders that embed the single-cell expression data into a low-dimensional latent space, while removing batch effects. This is what we will be doing in chapter {ref}`data-integration`. While scVI is an unsupervised method that only considers the count data, scANVI is a \"semi-supervised\" data that takes into account known cell-type labels of one or multiple datasets. \n",
    "\n",
    "In an independent benchmark, the semi-supervised variant scANVI has outperformed scVI and other methods for atlas-level data integration {cite}`TODO`.\n",
    "\n",
    "In order to leverage the scANVI algorithm for building the atlas, we are going to prepare cell-type labels for two datasets with very different characteristics: \n",
    " * `Lambrechts_Thienpont_2018_6653`, which has been sequenced using the dropblet-based, UMI-corrected 10x Genomics 3' v2 protocol\n",
    " * `Maynard_Bivona_2020`, which has been sequenced using the well-based full-length Smart-seq2 protocol {cite}`TODO`. "
   ]
  },
  {
   "cell_type": "markdown",
   "metadata": {},
   "source": [
    "## 1. Import the required libraries"
   ]
  },
  {
   "cell_type": "code",
   "execution_count": 1,
   "metadata": {},
   "outputs": [],
   "source": [
    "import scanpy as sc"
   ]
  },
  {
   "cell_type": "markdown",
   "metadata": {},
   "source": [
    "## 2. Load the input data"
   ]
  },
  {
   "cell_type": "code",
   "execution_count": 2,
   "metadata": {},
   "outputs": [],
   "source": [
    "lambrechts2018 = sc.read_h5ad(\"../../data/input_data_zenodo/lambrechts_2018_luad_6653.h5ad\")\n",
    "maynard2020 = sc.read_h5ad(\"../../data/input_data_zenodo/maynard2020.h5ad\")"
   ]
  },
  {
   "cell_type": "markdown",
   "metadata": {},
   "source": [
    "## 3. Define and create output directory"
   ]
  },
  {
   "cell_type": "code",
   "execution_count": 4,
   "metadata": {},
   "outputs": [],
   "source": [
    "out_dir = \"../../results/seed_annotation\""
   ]
  },
  {
   "cell_type": "code",
   "execution_count": 5,
   "metadata": {},
   "outputs": [],
   "source": [
    "!mkdir -p {out_dir}"
   ]
  },
  {
   "cell_type": "markdown",
   "metadata": {},
   "source": [
    "## 3. preprocess each dataset individually\n",
    "\n",
    "TODO either based on scVI or just using normalize_total/log1p. Do this once filtering is complete. "
   ]
  },
  {
   "cell_type": "markdown",
   "metadata": {},
   "source": [
    "## 4. annotate cell-types for each dataset individually\n",
    "\n",
    "Seed datasets can be annotated based on unsupervised clustering and marker genes as shown in section {ref}`cell_type_annotation`. For the sake of this tutorial, we simply re-use the cell-type annotations from {cite}`salcherHighresolutionSinglecellAtlas2022a`. "
   ]
  },
  {
   "cell_type": "code",
   "execution_count": 3,
   "metadata": {},
   "outputs": [],
   "source": [
    "lambrechts2018.obs[\"cell_type\"] = lambrechts2018.obs[\"cell_type_salcher\"]\n",
    "maynard2020.obs[\"cell_type\"] = maynard2020.obs[\"cell_type_salcher\"]"
   ]
  },
  {
   "cell_type": "markdown",
   "metadata": {},
   "source": [
    "## 5. Store annotated AnnData objects"
   ]
  },
  {
   "cell_type": "code",
   "execution_count": 7,
   "metadata": {},
   "outputs": [],
   "source": [
    "lambrechts2018.write_h5ad(f\"{out_dir}/lambrechts_2018_luad_6653_annotated.h5ad\")\n",
    "maynard2020.write_h5ad(f\"{out_dir}/maynard2020_annotated.h5ad\")"
   ]
  }
 ],
 "metadata": {
  "kernelspec": {
   "display_name": "Python [conda env:conda-2023-atlas-protocol]",
   "language": "python",
   "name": "conda-env-conda-2023-atlas-protocol-py"
  },
  "language_info": {
   "codemirror_mode": {
    "name": "ipython",
    "version": 3
   },
   "file_extension": ".py",
   "mimetype": "text/x-python",
   "name": "python",
   "nbconvert_exporter": "python",
   "pygments_lexer": "ipython3",
   "version": "3.10.10"
  }
 },
 "nbformat": 4,
 "nbformat_minor": 4
}
