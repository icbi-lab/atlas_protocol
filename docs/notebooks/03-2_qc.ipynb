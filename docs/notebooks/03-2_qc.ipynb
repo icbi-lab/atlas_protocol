{
 "cells": [
  {
   "cell_type": "markdown",
   "metadata": {},
   "source": [
    "# Quality control and filtering\n",
    "\n",
    "For a meaningful downstream analysis, it is necessary to distinguish empty and low quality\n",
    "droplets (or wells) from *bona fide* cells. This can be achieved by investigating the number of detected\n",
    "UMIs and genes per cell, as well as the fraction of mitochondrial reads. A low number of genes\n",
    "and counts per cell can indicate empty droplets or microwells, respectively. A high fraction of\n",
    "mitochondrial reads, on the other hand, may indicate ruptured cells that lost most of their cytoplasmic RNA\n",
    "having retained only their mitochondria {cite}`lueckenCurrentBestPractices2019,lunStepbystepWorkflowLowlevel2016`.\n",
    "The metrics need to be considered jointly, as a high mitochondrial content *per se* could also be indicative of respiratory processes\n",
    "being upregulated in the cell, conveying a meaningful biological signal.\n",
    "\n",
    "Appropriate cutoffs are commonly determined by plotting the distributions of the quality metrics across all cells in a\n",
    "sample or dataset, and visually determining breakpoints between “signal” and “noise” distributions\n",
    " {cite}`lueckenCurrentBestPractices2019`. This is the strategy we applied for building the lung cancer atlas in {cite}`salcherHighresolutionSinglecellAtlas2022a`. \n",
    "However, since these thresholds need to be determined for each dataset -- or, ideally, sample -- independently, this process requires a lot of manual interventions. \n",
    "Therefore, here we demonstrate automated removal of outliers based on median absolute deviation as suggested in {cite:t}`germainPipeCompGeneralFramework2020` and {cite:t}`heumosBestPracticesSinglecell2023`.\n",
    "\n",
    ":::{important}\n",
    "**datasets vs. studies**\n",
    "\n",
    "By “study”, we refer to a scientific publication, while with “dataset”, \n",
    "we refer to a set of samples that was generated using the same sequencing platform and processed in the same way.\n",
    "One study may contain one or multiple datasets. Datasets must be processed independently. \n",
    ":::\n",
    "\n",
    ":::{seealso}\n",
    "The [Quality Control](https://www.sc-best-practices.org/preprocessing_visualization/quality_control.html) chapter of the single-cell best practice book {cite}`heumosBestPracticesSinglecell2023`. \n",
    ":::\n"
   ]
  },
  {
   "cell_type": "markdown",
   "metadata": {},
   "source": [
    "## 1. Load the required libaries"
   ]
  },
  {
   "cell_type": "code",
   "execution_count": 1,
   "metadata": {},
   "outputs": [],
   "source": [
    "import scanpy as sc\n",
    "import anndata\n",
    "import numpy as np\n",
    "\n",
    "import atlas_protocol_scripts as aps"
   ]
  },
  {
   "cell_type": "markdown",
   "metadata": {},
   "source": [
    "## 2. Load input data\n",
    "\n",
    "TODO: use merged object instead of quick-and-dirty merge"
   ]
  },
  {
   "cell_type": "code",
   "execution_count": 2,
   "metadata": {},
   "outputs": [],
   "source": [
    "out_dir = \"../../data/results/qc/\"\n",
    "!mkdir -p {out_dir}"
   ]
  },
  {
   "cell_type": "code",
   "execution_count": 3,
   "metadata": {},
   "outputs": [],
   "source": [
    "DATASETS = {\n",
    "    \"maynard_2020\": \"../../data/input_data_raw/maynard2020.h5ad\",\n",
    "    \"lambrechts_2018\": \"../../data/input_data_raw/lambrechts_2018_luad_6653.h5ad\",\n",
    "    \"ukim-v\": \"../../data/input_data_raw/ukim_v_batch1.h5ad\",\n",
    "}\n",
    "datasets = {dataset_id: sc.read_h5ad(path) for dataset_id, path in DATASETS.items()}"
   ]
  },
  {
   "cell_type": "code",
   "execution_count": 4,
   "metadata": {},
   "outputs": [],
   "source": [
    "for ad in datasets.values():\n",
    "    ad.var_names_make_unique()"
   ]
  },
  {
   "cell_type": "code",
   "execution_count": 5,
   "metadata": {},
   "outputs": [],
   "source": [
    "adata = anndata.concat(datasets, join=\"inner\", index_unique=\"_\")"
   ]
  },
  {
   "cell_type": "code",
   "execution_count": 6,
   "metadata": {},
   "outputs": [],
   "source": [
    "adata.obs[\"dataset\"] = adata.obs_names.str.extract(r\"_(.*)$\", expand=False).str.replace(\n",
    "    \"^\\d+_\", \"\", regex=True\n",
    ")\n",
    "adata.obs[\"patient\"] = adata.obs[\"patient\"].astype(str)"
   ]
  },
  {
   "cell_type": "markdown",
   "metadata": {},
   "source": [
    ":::{note}\n",
    "**Ambient RNA removal**\n",
    "\n",
    "Both droplet and microwell based sequencing are subject to ambient RNA contamination. These are\n",
    "RNA molecules that are uniformly present in the cell suspension and may, for instance, originate\n",
    "from dead cells. As a consequence, ambient RNA molecules are profiled together with the\n",
    "cell-specific RNA in each droplet or well. This introduces a bias in the data that may hamper\n",
    "downstream analysis. For instance, if droplets are contaminated with RNA of cell-lineage markers,\n",
    "their expression may show up in cell-types that are known not to express these genes. Ambient\n",
    "RNA can be removed computationally by tools such as SoupX {cite}`youngSoupXRemovesAmbient2020`,\n",
    "DecontX {cite}`yangDecontaminationAmbientRNA2020`, CellBender {cite}`flemingUnsupervisedRemovalSystematic2022`, \n",
    "and SCAR {cite}`shengProbabilisticMachineLearning2022` that statistically model the measured UMI counts in each cell as the mixture\n",
    "of cell-specific and cell-free RNA.\n",
    "\n",
    "Ambient RNA removal methods typically require unfiltered UMI counts as input, which is not routinely\n",
    "available for publicly avilable dataset. For this reason, we did not perform ambient RNA removal {cite}`salcherHighresolutionSinglecellAtlas2022a`, \n",
    "and are not showing it as part of this tutorial. \n",
    ":::"
   ]
  },
  {
   "cell_type": "markdown",
   "metadata": {},
   "source": [
    "## 3. Calculate QC metrics\n",
    "\n",
    "1. Label genes by common QC categories, such as mitochondrial genes, ribosomal genes and hemoglobin genes"
   ]
  },
  {
   "cell_type": "code",
   "execution_count": 7,
   "metadata": {},
   "outputs": [],
   "source": [
    "# mitochondrial genes\n",
    "adata.var[\"mt\"] = adata.var_names.str.startswith(\"MT-\")\n",
    "# ribosomal genes\n",
    "adata.var[\"ribo\"] = adata.var_names.str.startswith((\"RPS\", \"RPL\"))\n",
    "# hemoglobin genes.\n",
    "adata.var[\"hb\"] = adata.var_names.str.contains((\"^HB[^(P)]\"))"
   ]
  },
  {
   "cell_type": "markdown",
   "metadata": {},
   "source": [
    "2. Add per-cell QC metrics to `adata.obs`"
   ]
  },
  {
   "cell_type": "code",
   "execution_count": 8,
   "metadata": {},
   "outputs": [],
   "source": [
    "sc.pp.calculate_qc_metrics(\n",
    "    adata, qc_vars=[\"mt\", \"ribo\", \"hb\"], inplace=True, percent_top=[20], log1p=True\n",
    ")"
   ]
  },
  {
   "cell_type": "markdown",
   "metadata": {},
   "source": [
    "## 4. pre-filtering\n",
    "\n",
    "In this step, we apply a very conservative filter to the number of detected genes and the number of reads per cell. This step will remove cells and genes that are almost certainly non-informative, but still leaves many low-quality cells that need to be dealt with later.\n",
    "\n",
    "1. remove cells that don't have a minimum number of counts and detected genes. "
   ]
  },
  {
   "cell_type": "code",
   "execution_count": 9,
   "metadata": {},
   "outputs": [],
   "source": [
    "sc.pp.filter_cells(adata, min_counts=500)\n",
    "sc.pp.filter_cells(adata, min_genes=200)"
   ]
  },
  {
   "cell_type": "markdown",
   "metadata": {},
   "source": [
    "2. remove genes that are not present in at least 20 cells. "
   ]
  },
  {
   "cell_type": "code",
   "execution_count": 10,
   "metadata": {},
   "outputs": [],
   "source": [
    "sc.pp.filter_genes(adata, min_cells=20)"
   ]
  },
  {
   "cell_type": "markdown",
   "metadata": {},
   "source": [
    "## 5. outlier detection\n",
    "\n",
    "Similar to what is described in {cite}`germainPipeCompGeneralFramework2020` and {cite}`heumosBestPracticesSinglecell2023`, \n",
    "we apply a relativly lenient filter that removes cells that are outliers in at least two of the following categories\n",
    " * log1p total counts by > 5 MAD\n",
    " * log1p detected genes by > 5 MAD\n",
    " * fraction of counts in top 20% of genes by > 5 MAD\n",
    " * fraction of mitochondrial counts > 3 MAD\n",
    " \n",
    ":::{important}\n",
    "Using too stringent cutoffs may remove entire cell-types!\n",
    "It is better to apply permissive filtering here, and remove remaining low-quality cells during cell-type annotation.\n",
    ":::\n",
    "\n",
    "1. Define outliers in each category"
   ]
  },
  {
   "cell_type": "code",
   "execution_count": 11,
   "metadata": {},
   "outputs": [],
   "source": [
    "adata.obs[\"is_outlier_counts\"] = aps.pp.is_outlier(\n",
    "    adata, \"log1p_total_counts\", n_mads=5, groupby=\"sample\"\n",
    ")\n",
    "adata.obs[\"is_outlier_genes\"] = aps.pp.is_outlier(\n",
    "    adata, \"log1p_n_genes_by_counts\", n_mads=5, groupby=\"sample\"\n",
    ")\n",
    "adata.obs[\"is_outlier_top_20\"] = aps.pp.is_outlier(\n",
    "    adata, \"pct_counts_in_top_20_genes\", n_mads=5, groupby=\"sample\"\n",
    ")\n",
    "adata.obs[\"is_outlier_mito\"] = aps.pp.is_outlier(\n",
    "    adata, \"pct_counts_mt\", n_mads=3, groupby=\"sample\"\n",
    ")"
   ]
  },
  {
   "cell_type": "markdown",
   "metadata": {},
   "source": [
    "2. Label cells that are outliers in at least two conditions in the `is_outlier` column. "
   ]
  },
  {
   "cell_type": "code",
   "execution_count": 12,
   "metadata": {},
   "outputs": [],
   "source": [
    "adata.obs[\"is_outlier\"] = (\n",
    "    np.sum(\n",
    "        adata.obs.loc[\n",
    "            :,\n",
    "            [\n",
    "                \"is_outlier_counts\",\n",
    "                \"is_outlier_genes\",\n",
    "                \"is_outlier_top_20\",\n",
    "                \"is_outlier_mito\",\n",
    "            ],\n",
    "        ],\n",
    "        axis=1,\n",
    "    )\n",
    "    >= 2\n",
    ")"
   ]
  },
  {
   "cell_type": "markdown",
   "metadata": {},
   "source": [
    "## 6. Subset data"
   ]
  },
  {
   "cell_type": "code",
   "execution_count": 13,
   "metadata": {},
   "outputs": [
    {
     "data": {
      "text/plain": [
       "(84763, 26710)"
      ]
     },
     "execution_count": 13,
     "metadata": {},
     "output_type": "execute_result"
    }
   ],
   "source": [
    "adata.shape"
   ]
  },
  {
   "cell_type": "code",
   "execution_count": 17,
   "metadata": {},
   "outputs": [],
   "source": [
    "adata_filtered = adata[~adata.obs[\"is_outlier\"]].copy()"
   ]
  },
  {
   "cell_type": "code",
   "execution_count": 18,
   "metadata": {},
   "outputs": [
    {
     "data": {
      "text/plain": [
       "(79241, 26710)"
      ]
     },
     "execution_count": 18,
     "metadata": {},
     "output_type": "execute_result"
    }
   ],
   "source": [
    "adata_filtered.shape"
   ]
  },
  {
   "cell_type": "markdown",
   "metadata": {},
   "source": [
    "## 7. Store result"
   ]
  },
  {
   "cell_type": "code",
   "execution_count": 19,
   "metadata": {},
   "outputs": [],
   "source": [
    "adata_filtered.write_h5ad(f\"{out_dir}/adata_filtered.h5ad\")"
   ]
  }
 ],
 "metadata": {
  "kernelspec": {
   "display_name": "Python [conda env:conda-2023-atlas-protocol]",
   "language": "python",
   "name": "conda-env-conda-2023-atlas-protocol-py"
  },
  "language_info": {
   "codemirror_mode": {
    "name": "ipython",
    "version": 3
   },
   "file_extension": ".py",
   "mimetype": "text/x-python",
   "name": "python",
   "nbconvert_exporter": "python",
   "pygments_lexer": "ipython3",
   "version": "3.10.10"
  }
 },
 "nbformat": 4,
 "nbformat_minor": 4
}
