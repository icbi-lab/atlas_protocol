{
 "cells": [
  {
   "cell_type": "markdown",
   "id": "07fb6109-7a52-4379-8655-9d2d2f3a7388",
   "metadata": {},
   "source": [
    "# Differential gene expression\n",
    "\n",
    "One of the most commonly asked questions when comparing between conditions is which genes\n",
    "are differentially expressed. In statistical terms, we ask if the mean gene expression differs between two groups more than what would be expected by random chance.\n",
    "A common fallacy here is that frequently applied statistical tests assume independence of the observations, while cells from the same sample or patient are not independent. This is also called \"pseudoreplication bias\" and leads to drastically inflated p-values {cite}`squairConfrontingFalseDiscoveries2021, zimmermanPracticalSolutionPseudoreplication2021`.\n",
    "\n",
    "Unfortunately, the differential testing\n",
    "functions available from the most commonly used frameworks (e.g. {func}`scanpy.tl.rank_genes_groups` in scanpy) do not account for this, allowing for qualitative comparisons at best. As an alternative, {cite:t}`squairConfrontingFalseDiscoveries2021` suggest to aggregate samples into \"pseudo-bulks\" and apply tools originally designed for comparing bulk RNA-seq samples.\n",
    "\n",
    "In this section, we are going to demonstrate how to generate pseudo-bulk samples by cell-type using\n",
    "[decoupler](https://github.com/saezlab/decoupler-py) {cite}`badia-i-mompelDecoupleREnsembleComputational2022` and apply DESeq2 {cite}`loveModeratedEstimationFold2014` to perform cell-type-specific comparison between conditions.\n",
    "\n",
    ":::{seealso}\n",
    " * The [Differential gene expression](https://www.sc-best-practices.org/conditions/differential_gene_expression.html) chapter of the single-cell best practice book {cite}`heumosBestPracticesSinglecell2023`.\n",
    " * The [decoupler pseudobulk vignette](https://decoupler-py.readthedocs.io/en/latest/notebooks/pseudobulk.html).\n",
    ":::"
   ]
  },
  {
   "cell_type": "markdown",
   "id": "ab294494-cfba-4b20-8653-71729f3eef26",
   "metadata": {},
   "source": [
    "## 1.Load libraries"
   ]
  },
  {
   "cell_type": "code",
   "execution_count": 1,
   "id": "5580a3c8-c63a-414e-aadf-252c4fdadd9c",
   "metadata": {},
   "outputs": [],
   "source": [
    "%load_ext autoreload\n",
    "%autoreload 2\n",
    "import re\n",
    "import subprocess as sp\n",
    "from pathlib import Path\n",
    "\n",
    "import decoupler as dc\n",
    "import matplotlib.pyplot as plt\n",
    "import pandas as pd\n",
    "import scanpy as sc\n",
    "from anndata import AnnData\n",
    "from tqdm.contrib.concurrent import process_map\n",
    "\n",
    "import atlas_protocol_scripts as aps"
   ]
  },
  {
   "cell_type": "markdown",
   "id": "4c2748e6-e8cf-4221-8ef0-477b44e192cb",
   "metadata": {},
   "source": [
    "## 2. Load input data\n",
    "1. Load the annotated AnnData object"
   ]
  },
  {
   "cell_type": "code",
   "execution_count": 2,
   "id": "f689a8cb-59c8-4ac6-b6c2-587fe824ba2a",
   "metadata": {},
   "outputs": [],
   "source": [
    "adata_path = \"../../data/input_data_zenodo/atlas-integrated-annotated.h5ad\"\n",
    "adata = sc.read_h5ad(adata_path)"
   ]
  },
  {
   "cell_type": "markdown",
   "id": "b47b8ec2",
   "metadata": {},
   "source": [
    "2. Define the paths to the scripts for DESeq2. The script is shipped as part of the `atlas_protocol` repo."
   ]
  },
  {
   "cell_type": "code",
   "execution_count": 3,
   "id": "6a3a28e3-e1df-4aa4-b181-59c6b12e7e22",
   "metadata": {},
   "outputs": [],
   "source": [
    "deseq_script_path = \"../../bin/deseq2.R\""
   ]
  },
  {
   "cell_type": "markdown",
   "id": "ab972d5b",
   "metadata": {},
   "source": [
    "3. Create output directories"
   ]
  },
  {
   "cell_type": "code",
   "execution_count": 4,
   "id": "eb658545-7831-4b0d-87fc-f070d8410d51",
   "metadata": {},
   "outputs": [
    {
     "data": {
      "text/plain": [
       "View of AnnData object with n_obs × n_vars = 25892 × 17837\n",
       "    obs: 'sample', 'uicc_stage', 'sex', 'ever_smoker', 'driver_genes', 'condition', 'age', 'patient', 'tissue', 'origin', 'dataset', 'cell_type', 'cell_type_predicted', 'doublet_status', 'leiden', 'n_genes_by_counts', 'total_counts', 'total_counts_mito', 'pct_counts_mito', 'cell_type_coarse', 'cell_type_tumor', 'tumor_stage', 'EGFR_mutation', 'TP53_mutation', 'ALK_mutation', 'BRAF_mutation', 'ERBB2_mutation', 'KRAS_mutation', 'ROS_mutation', 'origin_fine', 'study', 'platform', 'platform_fine', 'cell_type_major', 'batch', '_predictions', '_leiden', '_cell_type_tumor_predicted'\n",
       "    var: 'is_highly_variable', 'mito', 'n_cells_by_counts', 'mean_counts', 'pct_dropout_by_counts', 'total_counts'\n",
       "    uns: '_cell_type_tumor_predicted_colors', '_scvi', 'cell_type_coarse_colors', 'cell_type_colors', 'cell_type_major_colors', 'cell_type_predicted_colors', 'cell_type_tumor_colors', 'condition_colors', 'dataset_colors', 'doublet_status_colors', 'ever_smoker_colors', 'hvg', 'leiden_colors', 'neighbors', 'origin_colors', 'platform_colors', 'sex_colors', 'tumor_stage_colors', 'uicc_stage_colors', 'umap'\n",
       "    obsm: 'X_scANVI', 'X_scVI', 'X_umap'\n",
       "    layers: 'raw_counts'\n",
       "    obsp: 'connectivities', 'distances'"
      ]
     },
     "execution_count": 4,
     "metadata": {},
     "output_type": "execute_result"
    }
   ],
   "source": [
    "deseq_results = Path(\"../../data/results/differential_expression/\")\n",
    "!mkdir -p {deseq_results}"
   ]
  },
  {
   "cell_type": "markdown",
   "id": "0c9051f3-9212-4ace-85eb-44c24bd15749",
   "metadata": {},
   "source": [
    "## 3. Generate Pseudobulk\n",
    "\n",
    "Here, we aggregate counts by biological replicate (patient) for each cell-type individually.\n",
    "\n",
    "1. subset AnnData to the cells of interest. In this case, we only focus on cells originating from primary tumor samples and the two conditions (LUAD vs. LUSC) we are going to compare."
   ]
  },
  {
   "cell_type": "code",
   "execution_count": 5,
   "id": "4bbb50de-d70c-439e-ae49-e4c3d33cd455",
   "metadata": {},
   "outputs": [
    {
     "data": {
      "text/plain": [
       "AnnData object with n_obs × n_vars = 22 × 17837\n",
       "    obs: 'sample', 'uicc_stage', 'sex', 'ever_smoker', 'driver_genes', 'condition', 'age', 'patient', 'tissue', 'origin', 'dataset', 'doublet_status', 'total_counts_mito', 'pct_counts_mito', 'tumor_stage', 'EGFR_mutation', 'TP53_mutation', 'ALK_mutation', 'BRAF_mutation', 'ERBB2_mutation', 'KRAS_mutation', 'ROS_mutation', 'origin_fine', 'study', 'platform', 'platform_fine', 'batch', '_predictions', '_leiden', '_cell_type_tumor_predicted', 'psbulk_n_cells', 'psbulk_counts'\n",
       "    var: 'is_highly_variable', 'mito', 'n_cells_by_counts', 'mean_counts', 'pct_dropout_by_counts', 'total_counts'\n",
       "    layers: 'psbulk_props'"
      ]
     },
     "execution_count": 5,
     "metadata": {},
     "output_type": "execute_result"
    }
   ],
   "source": [
    "adata = adata[adata.obs[\"origin\"].isin([\"tumor_primary\"]) & adata.obs[\"condition\"].isin([\"LUAD\", \"LUSC\"])]\n",
    "adata"
   ]
  },
  {
   "cell_type": "markdown",
   "id": "705fdb77-b743-4a16-80fa-742b8c9c1586",
   "metadata": {},
   "source": [
    "2. Generate pseudobulk\n",
    "\n",
    ":::{important}\n",
    "Generate pseudo-bulk based on **raw counts** and aggregate them by summing up.\n",
    ":::"
   ]
  },
  {
   "cell_type": "code",
   "execution_count": 6,
   "id": "7ee823ff-ba2c-49b1-812e-1b5ce7bde563",
   "metadata": {},
   "outputs": [],
   "source": [
    "# Get pseudo-bulk profile\n",
    "pdata = dc.get_pseudobulk(\n",
    "    adata,\n",
    "    sample_col=\"sample\",\n",
    "    groups_col=[\"cell_type_coarse\", \"condition\"],\n",
    "    layer=\"raw_counts\",  # layer where raw counts are store in adata\n",
    "    mode=\"sum\",\n",
    "    min_cells=0,  # we are setting this to 0 and filter in an explicit, separate step.\n",
    "    min_counts=0,\n",
    ")\n",
    "pdata"
   ]
  },
  {
   "cell_type": "markdown",
   "id": "9e16110b",
   "metadata": {},
   "source": [
    "3. Inspect the table of \"pseudobulk samples\""
   ]
  },
  {
   "cell_type": "code",
   "execution_count": 7,
   "id": "9ea5322d-24f3-48f1-84da-2e55f066282f",
   "metadata": {},
   "outputs": [
    {
     "data": {
      "text/plain": [
       "AnnData object with n_obs × n_vars = 22 × 17837\n",
       "    obs: 'sample', 'uicc_stage', 'sex', 'ever_smoker', 'driver_genes', 'condition', 'age', 'patient', 'tissue', 'origin', 'dataset', 'doublet_status', 'total_counts_mito', 'pct_counts_mito', 'tumor_stage', 'EGFR_mutation', 'TP53_mutation', 'ALK_mutation', 'BRAF_mutation', 'ERBB2_mutation', 'KRAS_mutation', 'ROS_mutation', 'origin_fine', 'study', 'platform', 'platform_fine', 'batch', '_predictions', '_leiden', '_cell_type_tumor_predicted', 'psbulk_n_cells', 'psbulk_counts'\n",
       "    var: 'is_highly_variable', 'mito', 'n_cells_by_counts', 'mean_counts', 'pct_dropout_by_counts', 'total_counts'\n",
       "    layers: 'psbulk_props', 'counts'"
      ]
     },
     "execution_count": 7,
     "metadata": {},
     "output_type": "execute_result"
    }
   ],
   "source": [
    "pdata.obs"
   ]
  },
  {
   "cell_type": "markdown",
   "id": "dca3c0f2-98a3-4db0-88be-a9086a9d8cde",
   "metadata": {},
   "source": [
    "## 4. Filter samples\n",
    "\n",
    "In this step, we are removing samples that consist of too few cells or have a small number of total counts in both conditions.\n",
    "\n",
    "1. Plot relationship of counts and cells per dataset and cell-type"
   ]
  },
  {
   "cell_type": "code",
   "execution_count": 8,
   "id": "847fd53c-a042-43bc-831a-446f21ac334e",
   "metadata": {},
   "outputs": [
    {
     "data": {
      "image/png": "[encoded data removed]",
      "text/plain": [
       "<Figure size 1300x500 with 2 Axes>"
      ]
     },
     "metadata": {},
     "output_type": "display_data"
    }
   ],
   "source": [
    "for col in [\"dataset\", \"cell_type_coarse\", \"condition\"]:\n",
    "    dc.plot_psbulk_samples(pdata, groupby=col, figsize=(3, 3))"
   ]
  },
  {
   "cell_type": "markdown",
   "id": "a75e37f6-671c-4f60-978e-6b7312675971",
   "metadata": {},
   "source": [
    "2. Remove samples with less than 10 cells or less than 1000 counts"
   ]
  },
  {
   "cell_type": "code",
   "execution_count": 9,
   "id": "cc7a9f24-e420-4c9d-9e2b-3a6ed65be91a",
   "metadata": {},
   "outputs": [
    {
     "data": {
      "image/png": "[encoded data removed]",
      "text/plain": [
       "<Figure size 500x400 with 2 Axes>"
      ]
     },
     "metadata": {},
     "output_type": "display_data"
    }
   ],
   "source": [
    "pdata = pdata[(pdata.obs[\"psbulk_n_cells\"] >= 10) & (pdata.obs[\"psbulk_counts\"] >= 1000)]"
   ]
  },
  {
   "cell_type": "markdown",
   "id": "0f7090b0-c814-459e-af11-fad6a43b1eef",
   "metadata": {},
   "source": [
    "## 5. Split pseudobulk by cell-type\n",
    "\n",
    "For the following steps, we treat each cell-type separately, therefore we split the pseudobulk object\n",
    "into a dictionary of objects per cell-type."
   ]
  },
  {
   "cell_type": "markdown",
   "id": "447c67ab",
   "metadata": {},
   "source": [
    "1. Define list of cell-types"
   ]
  },
  {
   "cell_type": "code",
   "execution_count": 10,
   "id": "312ee223-a76c-4a48-aa63-7e669dbf1604",
   "metadata": {},
   "outputs": [],
   "source": [
    "cell_types = pdata.obs[\"cell_type_coarse\"].unique()"
   ]
  },
  {
   "cell_type": "markdown",
   "id": "1af5841a",
   "metadata": {},
   "source": [
    "2. Generate per-cell-type dictionary"
   ]
  },
  {
   "cell_type": "code",
   "execution_count": null,
   "id": "5d1acc00",
   "metadata": {},
   "outputs": [],
   "source": [
    "pdata_by_cell_type = {}\n",
    "for ct in cell_types:\n",
    "    pb = pdata[pdata.obs[\"cell_type_coarse\"] == ct, :].copy()\n",
    "    if pb.obs[\"condition\"].nunique() <= 1:\n",
    "        print(f\"Cell type {ct} does not have samples in all groups\")\n",
    "    else:\n",
    "        pdata_by_cell_type[ct] = pb"
   ]
  },
  {
   "cell_type": "markdown",
   "id": "1d0dfd33",
   "metadata": {},
   "source": [
    "## 6. Filter genes\n",
    "Here, we filter noisy genes with a low expression value. We remove genes that do not have a certain number of total counts (`min_total_count`) and have a minimum number of counts in at least $n$ samples, where $n$ equals to the number of samples\n",
    "in the smallest group (or less, if there is a sufficient number of samples).\n",
    "\n",
    "This needs to be done for each cell-type individually since each\n",
    "cell-type may express different sets of genes.\n",
    "\n",
    ":::{seealso}\n",
    "[`filterByExpr`](https://rdrr.io/bioc/edgeR/man/filterByExpr.html) in [edgeR](https://bioconductor.org/packages/release/bioc/html/edgeR.html).\n",
    ":::"
   ]
  },
  {
   "cell_type": "markdown",
   "id": "7ce0d5a8",
   "metadata": {},
   "source": [
    "1. Inspect, for a given cell-type, the number of genes that the thresholds (here for Epithelial cells):"
   ]
  },
  {
   "cell_type": "code",
   "execution_count": null,
   "id": "0c5530fa",
   "metadata": {},
   "outputs": [],
   "source": [
    "dc.plot_filter_by_expr(\n",
    "    pdata_by_cell_type[\"Epithelial cell\"],\n",
    "    group=\"condition\",\n",
    "    min_count=10,\n",
    "    min_total_count=15,\n",
    ")"
   ]
  },
  {
   "cell_type": "markdown",
   "id": "2dd0ecee",
   "metadata": {},
   "source": [
    "2. Apply filter genes for all cell-types. Here, we apply the same (default) filter to all cell-types."
   ]
  },
  {
   "cell_type": "code",
   "execution_count": null,
   "id": "3e55111f",
   "metadata": {
    "lines_to_next_cell": 2
   },
   "outputs": [],
   "source": [
    "for tmp_pdata in pdata_by_cell_type.values():\n",
    "    dc.filter_by_expr(\n",
    "        tmp_pdata,\n",
    "        group=\"condition\",\n",
    "        min_count=10,\n",
    "        min_total_count=15,\n",
    "    )"
   ]
  },
  {
   "cell_type": "markdown",
   "id": "c56523f1",
   "metadata": {},
   "source": [
    "## 7. Run DESeq"
   ]
  },
  {
   "cell_type": "markdown",
   "id": "19cfc9af",
   "metadata": {},
   "source": [
    "1. Inspect the help page of the DESeq2 script"
   ]
  },
  {
   "cell_type": "code",
   "execution_count": null,
   "id": "991b3fb6",
   "metadata": {},
   "outputs": [],
   "source": [
    "!{deseq_script_path} --help"
   ]
  },
  {
   "cell_type": "markdown",
   "id": "8cc60b56",
   "metadata": {
    "lines_to_next_cell": 2
   },
   "source": [
    "2. Define a function to create an output directory per cell-type"
   ]
  },
  {
   "cell_type": "code",
   "execution_count": null,
   "id": "33cec5b7",
   "metadata": {},
   "outputs": [],
   "source": [
    "def _create_prefix(cell_type):\n",
    "    ct_sanitized = re.sub(\"[^0-9a-zA-Z]+\", \"_\", cell_type)\n",
    "    prefix = deseq_results / \"LUAD_vs_LUSC\" / ct_sanitized\n",
    "    prefix.mkdir(parents=True, exist_ok=True)\n",
    "    return prefix"
   ]
  },
  {
   "cell_type": "markdown",
   "id": "a05e3167",
   "metadata": {},
   "source": [
    "2. Export pseudobulk objects to CSV files. This will generate a count matrix an a samplesheet for each cell-type."
   ]
  },
  {
   "cell_type": "code",
   "execution_count": null,
   "id": "6483c7b9",
   "metadata": {
    "lines_to_next_cell": 2
   },
   "outputs": [],
   "source": [
    "for ct, tmp_pdata in pdata_by_cell_type.items():\n",
    "    prefix = _create_prefix(ct)\n",
    "    aps.io.write_deseq_tables(tmp_pdata, prefix / \"samplesheet.csv\", prefix / \"counts.csv\")"
   ]
  },
  {
   "cell_type": "markdown",
   "id": "ff8e1e96",
   "metadata": {
    "lines_to_next_cell": 2
   },
   "source": [
    "3. Execute the DESeq2 script\n",
    "\n",
    ":::{important}\n",
    "Always specify at least `dataset` as a covariate when performing differential expression analysis,\n",
    "to account for batch effects.\n",
    "\n",
    "It may make sense to include other covariates (sex, tumor stage, age, ...) into the model\n",
    "depending on your dataset and research question.\n",
    ":::"
   ]
  },
  {
   "cell_type": "code",
   "execution_count": null,
   "id": "18d59c02",
   "metadata": {
    "lines_to_next_cell": 2
   },
   "outputs": [],
   "source": [
    "def _run_deseq(cell_type: str, pseudobulk: AnnData):\n",
    "    \"\"\"Function: Run DESeq2 on pseudobulk of all cell types from cell_type.\"\"\"\n",
    "    prefix = _create_prefix(cell_type)\n",
    "    # fmt: off\n",
    "    deseq_cmd = [\n",
    "        deseq_script_path, prefix / \"counts.csv\", prefix / \"samplesheet.csv\",\n",
    "        \"--cond_col\", \"condition\",\n",
    "        \"--c1\", \"LUAD\",\n",
    "        \"--c2\", \"LUSC\",\n",
    "        \"--covariate_formula\", \"+ dataset + sex\",\n",
    "        \"--resDir\", prefix,\n",
    "        \"--prefix\", prefix.stem,\n",
    "    ]\n",
    "    # fmt: on\n",
    "    with open(prefix / \"out.log\", \"w\") as stdout:\n",
    "        with open(prefix / \"err.log\", \"w\") as stderr:\n",
    "            sp.run(\n",
    "                deseq_cmd,\n",
    "                capture_output=False,\n",
    "                stdout=stdout,\n",
    "                stderr=stderr,\n",
    "                check=True,\n",
    "            )\n",
    "\n",
    "\n",
    "_ = process_map(_run_deseq, pdata_by_cell_type, pdata_by_cell_type.values())"
   ]
  },
  {
   "cell_type": "markdown",
   "id": "4e3c3c69",
   "metadata": {},
   "source": [
    "4. import results"
   ]
  },
  {
   "cell_type": "code",
   "execution_count": null,
   "id": "92df3dad",
   "metadata": {},
   "outputs": [],
   "source": [
    "de_results = {}\n",
    "for ct in pdata_by_cell_type:\n",
    "    prefix = _create_prefix(ct)\n",
    "    de_results[ct] = pd.read_csv(prefix / f\"{prefix.stem}_DESeq2_result.tsv\", sep=\"\\t\").assign(cell_type=ct)"
   ]
  },
  {
   "cell_type": "markdown",
   "id": "ba00d6ba",
   "metadata": {},
   "source": [
    "## 8. Make volcano plots"
   ]
  },
  {
   "cell_type": "markdown",
   "id": "83de7a89",
   "metadata": {},
   "source": [
    "1. Convert DE results to p-value/logFC matrices as used by decoupler"
   ]
  },
  {
   "cell_type": "code",
   "execution_count": null,
   "id": "3436b9b5",
   "metadata": {},
   "outputs": [],
   "source": [
    "logFCs, pvals = aps.tl.long_form_df_to_decoupler(pd.concat(de_results.values()), p_col=\"padj\")"
   ]
  },
  {
   "cell_type": "markdown",
   "id": "fbc195a3",
   "metadata": {},
   "source": [
    "2. Make a volcano plot for all cell-types of interest (e.g. B cells)"
   ]
  },
  {
   "cell_type": "code",
   "execution_count": null,
   "id": "ef020667",
   "metadata": {},
   "outputs": [],
   "source": [
    "fig, ax = plt.subplots()\n",
    "dc.plot_volcano(logFCs, pvals, \"B cell\", name=\"B cell\", top=10, sign_thr=0.1, lFCs_thr=0.5, ax=ax)\n",
    "ax.set_ylabel(\"-log10(FDR)\")\n",
    "ax.set_xlabel(\"log2(FC)\")\n",
    "fig.show()"
   ]
  },
  {
   "cell_type": "markdown",
   "id": "c4f506ca",
   "metadata": {},
   "source": [
    "4. Normalize pseudobulk to log counts per million (logCPM)"
   ]
  },
  {
   "cell_type": "markdown",
   "id": "ffb4390d",
   "metadata": {},
   "source": [
    "## 9. Plot genes of interest as paired dotplots\n",
    "\n",
    "Here, we are visualizing the actual expression values for each sample for all genes and cell-types of interest"
   ]
  },
  {
   "cell_type": "markdown",
   "id": "ef7f500e",
   "metadata": {},
   "source": [
    "1. Define list of genes to visualize"
   ]
  },
  {
   "cell_type": "code",
   "execution_count": null,
   "id": "fcbd7527",
   "metadata": {},
   "outputs": [],
   "source": [
    "genes = [\"EIF1AY\", \"GSTM1\", \"XIST\", \"MYRF\"]"
   ]
  },
  {
   "cell_type": "markdown",
   "id": "4b6c3091-491d-404d-8783-240be7d4a954",
   "metadata": {},
   "source": [
    "2. Normalize pseudobulk to counts per million (CPM)"
   ]
  },
  {
   "cell_type": "code",
   "execution_count": 11,
   "id": "7313231c-4d78-4cb5-9c2d-6e5ab19aad81",
   "metadata": {},
   "outputs": [],
   "source": [
    "for tmp_pdata in pdata_by_cell_type.values():\n",
    "    sc.pp.normalize_total(tmp_pdata, target_sum=1e6)\n",
    "    sc.pp.log1p(tmp_pdata)"
   ]
  },
  {
   "cell_type": "markdown",
   "id": "5673aeab-dd09-4c39-8ee0-dc64244b5d50",
   "metadata": {},
   "source": [
    "3. Make plot (e.g. B cells)"
   ]
  },
  {
   "cell_type": "code",
   "execution_count": 12,
   "id": "245fa85b-7034-4367-8f5e-fb1317a99f7b",
   "metadata": {},
   "outputs": [],
   "source": [
    "# Get p-values for genes of interest\n",
    "tmp_pvalues = de_results[\"B cell\"].set_index(\"gene_id\").loc[genes, \"padj\"].values\n",
    "\n",
    "aps.pl.plot_paired(\n",
    "    pdata_by_cell_type[\"B cell\"],\n",
    "    groupby=\"condition\",\n",
    "    var_names=genes,\n",
    "    hue=\"dataset\",\n",
    "    ylabel=\"log(CPM+1)\",\n",
    "    panel_size=(2, 4),\n",
    "    pvalues=tmp_pvalues,\n",
    "    pvalue_template=lambda x: f\"DESeq2 FDR={x:.3f}\",\n",
    ")"
   ]
  }
 ],
 "metadata": {
  "kernelspec": {
   "display_name": "Python [conda env:conda-2023-atlas-protocol]",
   "language": "python",
   "name": "conda-env-conda-2023-atlas-protocol-py"
  },
  "language_info": {
   "codemirror_mode": {
    "name": "ipython",
    "version": 3
   },
   "file_extension": ".py",
   "mimetype": "text/x-python",
   "name": "python",
   "nbconvert_exporter": "python",
   "pygments_lexer": "ipython3",
   "version": "3.9.16"
  }
 },
 "nbformat": 4,
 "nbformat_minor": 5
}
