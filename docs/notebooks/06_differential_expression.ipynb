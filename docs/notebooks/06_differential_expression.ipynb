{
 "cells": [
  {
   "cell_type": "markdown",
   "id": "b4e795b1",
   "metadata": {
    "tags": []
   },
   "source": [
    "# Differential gene expression analysis per cell-type between conditions"
   ]
  },
  {
   "cell_type": "code",
   "execution_count": null,
   "id": "cabc77ce",
   "metadata": {},
   "outputs": [],
   "source": [
    "# Load libraries\n",
    "import glob\n",
    "import os\n",
    "import subprocess as sp\n",
    "import warnings\n",
    "\n",
    "# Libraries for visualization\n",
    "from typing import Sequence\n",
    "\n",
    "import decoupler as dc\n",
    "import numpy as np\n",
    "import pandas as pd\n",
    "import scanpy as sc\n",
    "\n",
    "warnings.filterwarnings(\"ignore\")\n",
    "from itertools import zip_longest\n",
    "from math import ceil\n",
    "\n",
    "import matplotlib.pyplot as plt\n",
    "import scipy.stats\n",
    "import seaborn as sns\n",
    "import statsmodels.stats.multitest\n",
    "from IPython.display import display\n",
    "\n",
    "# set PATH env variable to conda env for specific R version.\n",
    "# To use [DESeq2, R version \"4.2\" required](https://bioconductor.org/packages/release/bioc/html/DESeq2.html)\n",
    "path_to_R = \"/usr/local/bioinf/R/R-4.2.3/bin/\"\n",
    "os.environ[\"PATH\"] = path_to_R + os.pathsep + os.environ[\"PATH\"]\n",
    "\n",
    "cpus = 6"
   ]
  },
  {
   "cell_type": "markdown",
   "id": "40777386",
   "metadata": {},
   "source": [
    "## Configure paths\n",
    "* adata_path: Path to anndata file\n",
    "* deseq: Path to deseq2 script\n",
    "* deseq_results: Path to results directory.\n"
   ]
  },
  {
   "cell_type": "code",
   "execution_count": null,
   "id": "2c0d01dc",
   "metadata": {},
   "outputs": [],
   "source": [
    "adata_path = \"/data/projects/2023/atlas_protocol/input_data_zenodo/atlas-integrated-annotated.h5ad\"\n",
    "deseq = \"../../bin/deseq2.R\"\n",
    "deseq_results = \"/data/projects/2023/atlas_protocol/results/differential_expression/deseq_resdir\""
   ]
  },
  {
   "cell_type": "markdown",
   "id": "28508261",
   "metadata": {},
   "source": [
    "## Load data\n",
    "\n",
    "*anndata object"
   ]
  },
  {
   "cell_type": "code",
   "execution_count": null,
   "id": "1577460d",
   "metadata": {},
   "outputs": [],
   "source": [
    "adata = sc.read_h5ad(adata_path)\n",
    "\n",
    "# Subset adata\n",
    "adata = adata[adata.obs[\"origin\"].isin([\"tumor_primary\"])]\n",
    "adata = adata[adata.obs[\"condition\"].isin([\"LUAD\", \"LUSC\"])]"
   ]
  },
  {
   "cell_type": "markdown",
   "id": "88f1dbf1",
   "metadata": {},
   "source": [
    "## Pseudobulk"
   ]
  },
  {
   "cell_type": "markdown",
   "id": "7ace481e",
   "metadata": {
    "tags": []
   },
   "source": [
    "## Get pseudobulk for entire adata"
   ]
  },
  {
   "cell_type": "code",
   "execution_count": null,
   "id": "8ce2e96a",
   "metadata": {},
   "outputs": [],
   "source": [
    "# Get pseudo-bulk profile\n",
    "pdata = dc.get_pseudobulk(\n",
    "    adata,\n",
    "    sample_col=\"sample\",\n",
    "    groups_col=\"condition\",\n",
    "    layer=\"raw_counts\",  # layer where raw counts are store in adata\n",
    "    mode=\"sum\",\n",
    "    min_cells=0,\n",
    "    min_counts=0,\n",
    ")\n",
    "pdata"
   ]
  },
  {
   "cell_type": "markdown",
   "id": "c9e01a42",
   "metadata": {
    "tags": []
   },
   "source": [
    "## Quality control plot\n",
    "\n",
    "From generated profile for each dataset"
   ]
  },
  {
   "cell_type": "code",
   "execution_count": null,
   "id": "772a0024",
   "metadata": {},
   "outputs": [],
   "source": [
    "dc.plot_psbulk_samples(pdata, groupby=[\"dataset\", \"condition\"], figsize=(13, 5))"
   ]
  },
  {
   "cell_type": "markdown",
   "id": "67c97218",
   "metadata": {},
   "source": [
    "Convention to filter low quality samples:\n",
    "\n",
    "    - Number of cells --> min_cells (genes  minimum total number of reads across sample)\n",
    "    - Number of counts --> min_counts (genes minimum number of counts in a number of samples)\n",
    "\n",
    "Check the frequency of genes (features) vs n. of samples and total sum of counts with  ```plot_filter_by_expr```\n"
   ]
  },
  {
   "cell_type": "code",
   "execution_count": null,
   "id": "1b563df8",
   "metadata": {},
   "outputs": [],
   "source": [
    "dc.plot_filter_by_expr(pdata, group=\"condition\", min_count=10, min_total_count=15)"
   ]
  },
  {
   "cell_type": "markdown",
   "id": "ba9cf7b3",
   "metadata": {},
   "source": [
    "##  Define cell type to use\n",
    "\n",
    "Specifiy for which cell type annotation level we want to run the differential expression analyses"
   ]
  },
  {
   "cell_type": "code",
   "execution_count": null,
   "id": "de8f20d6",
   "metadata": {},
   "outputs": [],
   "source": [
    "cell_type = list(adata.obs[\"cell_type_coarse\"].unique())"
   ]
  },
  {
   "cell_type": "markdown",
   "id": "45b1e134",
   "metadata": {
    "tags": []
   },
   "source": [
    "## Create dictionary of adatas subsetted by cell type"
   ]
  },
  {
   "cell_type": "code",
   "execution_count": null,
   "id": "467ec841",
   "metadata": {
    "lines_to_next_cell": 2
   },
   "outputs": [],
   "source": [
    "adata_dict = {}\n",
    "for name in cell_type:\n",
    "    name_ad = name.replace(\" \", \"_\")\n",
    "    adata_name = f\"{name_ad}_adata\"\n",
    "    adata_dict[adata_name] = adata[adata.obs[\"cell_type_coarse\"].isin([name])]"
   ]
  },
  {
   "cell_type": "markdown",
   "id": "77b3cfd6",
   "metadata": {
    "lines_to_next_cell": 2,
    "tags": []
   },
   "source": [
    "##  Function: Run DESeq2 on pseudobulk of all cell types from cell_type"
   ]
  },
  {
   "cell_type": "code",
   "execution_count": null,
   "id": "0f7092a7",
   "metadata": {
    "lines_to_next_cell": 2
   },
   "outputs": [],
   "source": [
    "def run_deseq(count_table, sample_sheet, deseq_prefix, contrast, deseq_resdir):\n",
    "    \"\"\"Function: Run DESeq2 on pseudobulk of all cell types from cell_type.\"\"\"\n",
    "    os.makedirs(deseq_resdir, exist_ok=True)\n",
    "\n",
    "    deseq_cmd = [\n",
    "        deseq,\n",
    "        count_table,\n",
    "        sample_sheet,\n",
    "        \"--cond_col\",\n",
    "        \"condition\",\n",
    "        \"--c1\",\n",
    "        contrast[0],\n",
    "        \"--c2\",\n",
    "        contrast[1],\n",
    "        \"--resDir\",\n",
    "        deseq_resdir,\n",
    "        \"--prefix\",\n",
    "        deseq_prefix,\n",
    "        \"--cpus\",\n",
    "        str(cpus),\n",
    "        \"--save_workspace\",\n",
    "    ]\n",
    "    with open(deseq_resdir + \"/\" + deseq_prefix + \".log\", \"w\") as stdout:\n",
    "        with open(deseq_resdir + \"/\" + deseq_prefix + \".err\", \"w\") as stderr:\n",
    "            sp.run(deseq_cmd, capture_output=False, stdout=stdout, stderr=stderr, check=True)"
   ]
  },
  {
   "cell_type": "markdown",
   "id": "53b616b5",
   "metadata": {
    "lines_to_next_cell": 2
   },
   "source": [
    "## Function: Homogenize all sample ids"
   ]
  },
  {
   "cell_type": "code",
   "execution_count": null,
   "id": "940b9717",
   "metadata": {
    "lines_to_next_cell": 2,
    "tags": []
   },
   "outputs": [],
   "source": [
    "def fix_sample_ids(pb):\n",
    "    \"\"\"Homogenize all sample ids.\"\"\"\n",
    "    repl = {}\n",
    "    for k, v in dict(zip(pb.obs[\"condition\"].index, \"_\" + pb.obs[\"condition\"].values)).items():\n",
    "        repl[k] = k.replace(v, \"\")\n",
    "\n",
    "    return repl"
   ]
  },
  {
   "cell_type": "markdown",
   "id": "323d3b51",
   "metadata": {
    "lines_to_next_cell": 2
   },
   "source": [
    "## Funciton: Save results from pseudobulk (samplesheet and counts) for all cell types from cell_type"
   ]
  },
  {
   "cell_type": "code",
   "execution_count": null,
   "id": "b9ba732b",
   "metadata": {},
   "outputs": [],
   "source": [
    "def save_pseudobulk(pb, samplesheet_filename, counts_filename):\n",
    "    \"\"\"Save results from pseudobulk (samplesheet and counts) for all cell types from cell_type.\"\"\"\n",
    "    samplesheet = pb.obs.copy()\n",
    "    samplesheet.reset_index(inplace=True)\n",
    "    sample_ids_repl = fix_sample_ids(pb)\n",
    "    bulk_df = pb.to_df().T.rename(columns=sample_ids_repl)\n",
    "    bulk_df = pb.to_df().T\n",
    "    bulk_df.index.name = \"gene_id\"\n",
    "    samplesheet.to_csv(samplesheet_filename, index=False)\n",
    "    bulk_df.to_csv(counts_filename)"
   ]
  },
  {
   "cell_type": "markdown",
   "id": "ecd560ef",
   "metadata": {},
   "source": [
    "## Create pseudobulk for each celltype using the coarse cell type annotation"
   ]
  },
  {
   "cell_type": "code",
   "execution_count": null,
   "id": "c7b03416",
   "metadata": {
    "lines_to_next_cell": 2
   },
   "outputs": [],
   "source": [
    "for ct, tmp_ad in adata_dict.items():\n",
    "    pb = dc.get_pseudobulk(\n",
    "        tmp_ad,\n",
    "        sample_col=\"sample\",\n",
    "        groups_col=\"condition\",\n",
    "        layer=\"raw_counts\",\n",
    "        mode=\"sum\",\n",
    "        min_prop=0.05,\n",
    "        min_cells=10,\n",
    "        min_counts=1000,\n",
    "        min_smpls=2,\n",
    "    )\n",
    "    if pb.obs[\"condition\"].nunique() <= 1:\n",
    "        print(f\"Cell type {ct} does not have enough replicates per group\")\n",
    "    else:\n",
    "        contrast = [\"LUSC\", \"LUAD\"]\n",
    "        contrast_str = f\"{contrast[0]}_vs_{contrast[1]}\"\n",
    "        deseq_resdir = f\"{deseq_results}/{contrast_str}\"\n",
    "\n",
    "        ct = ct.replace(\" \", \"_\")\n",
    "        ct_fname = ct.replace(\"/\", \"_\")\n",
    "        deseq_prefix = f\"{contrast_str}_{ct_fname}\"\n",
    "\n",
    "        sample_sheet = f\"{deseq_results}/{deseq_prefix}.samplesheet.csv\"\n",
    "        count_table = f\"{deseq_results}/{deseq_prefix}.counts.csv\"\n",
    "\n",
    "        save_pseudobulk(pb, sample_sheet, count_table)\n",
    "        run_deseq(count_table, sample_sheet, deseq_prefix, contrast, deseq_resdir)"
   ]
  },
  {
   "cell_type": "code",
   "execution_count": null,
   "id": "49ccaffd",
   "metadata": {},
   "outputs": [],
   "source": [
    "contrasts = [\n",
    "    {\"name\": \"LUSC_vs_LUAD\", \"condition\": \"LUSC\", \"reference\": \"LUAD\"},\n",
    "]\n",
    "contrasts\n",
    "\n",
    "# Cell type name without space for file name\n",
    "cell_type_fn = [j.replace(\" \", \"_\").replace(\"/\", \"_\") for i, j in enumerate(cell_type)]"
   ]
  },
  {
   "cell_type": "code",
   "execution_count": null,
   "id": "de5b3759",
   "metadata": {},
   "outputs": [],
   "source": [
    "# Get results from folder\n",
    "for contrast in contrasts:\n",
    "    de_res = {}\n",
    "\n",
    "    for ct in cell_type_fn:\n",
    "        csv_file = glob.glob(deseq_resdir + \"/\" + contrast[\"name\"] + \"_\" + ct + \"_adata_DESeq2_result.tsv\")\n",
    "        if len(csv_file) > 0:\n",
    "            res_df = pd.read_csv(csv_file[0], sep=\"\\t\")\n",
    "            res_df = res_df.set_index([\"gene_id\"])\n",
    "            ct = ct.replace(\"_\", \" \")\n",
    "            # Register cell type results\n",
    "            de_res[ct] = res_df\n",
    "    contrast[\"de_res\"] = de_res"
   ]
  },
  {
   "cell_type": "code",
   "execution_count": null,
   "id": "40b12772",
   "metadata": {},
   "outputs": [],
   "source": [
    "# Concat and build the log2FoldChange change matrix\n",
    "for contrast in contrasts:\n",
    "    lfc_mat = (\n",
    "        pd.concat(\n",
    "            [\n",
    "                res.loc[:, [\"log2FoldChange\"]].rename(columns={\"log2FoldChange\": ct})\n",
    "                for ct, res in contrast[\"de_res\"].items()\n",
    "            ],\n",
    "            axis=1,\n",
    "            sort=True,\n",
    "        )\n",
    "        .fillna(0)\n",
    "        .T\n",
    "    )\n",
    "    contrast[\"lfc_mat\"] = lfc_mat\n",
    "    display(lfc_mat)"
   ]
  },
  {
   "cell_type": "code",
   "execution_count": null,
   "id": "88aec80b",
   "metadata": {},
   "outputs": [],
   "source": [
    "# Concat and build the fdr\n",
    "for contrast in contrasts:\n",
    "    fdr_mat = (\n",
    "        pd.concat(\n",
    "            [res.loc[:, [\"padj\"]].rename(columns={\"padj\": ct}) for ct, res in contrast[\"de_res\"].items()],\n",
    "            axis=1,\n",
    "            sort=True,\n",
    "        )\n",
    "        .fillna(1)\n",
    "        .T\n",
    "    )\n",
    "    contrast[\"fdr_mat\"] = fdr_mat\n",
    "    display(fdr_mat)"
   ]
  },
  {
   "cell_type": "code",
   "execution_count": null,
   "id": "97d253fd",
   "metadata": {
    "tags": []
   },
   "outputs": [],
   "source": [
    "# Concat and build the stat matrix\n",
    "for contrast in contrasts:\n",
    "    stat_mat = (\n",
    "        pd.concat(\n",
    "            [res.loc[:, [\"stat\"]].rename(columns={\"stat\": ct}) for ct, res in contrast[\"de_res\"].items()],\n",
    "            axis=1,\n",
    "            sort=True,\n",
    "        )\n",
    "        .fillna(0)\n",
    "        .T\n",
    "    )\n",
    "    contrast[\"stat_mat\"] = stat_mat\n",
    "    display(stat_mat)"
   ]
  },
  {
   "cell_type": "code",
   "execution_count": null,
   "id": "aa55241c",
   "metadata": {},
   "outputs": [],
   "source": [
    "logFCs = contrast[\"lfc_mat\"]\n",
    "logFCs"
   ]
  },
  {
   "cell_type": "code",
   "execution_count": null,
   "id": "206177be",
   "metadata": {},
   "outputs": [],
   "source": [
    "for contrast in contrasts:\n",
    "    # Extract logFCs and pvals\n",
    "    logFCs = contrast[\"lfc_mat\"]\n",
    "    pvals = contrast[\"fdr_mat\"]\n",
    "\n",
    "    n_sig = 0\n",
    "    sig_tf = {}\n",
    "    cell_type = list(logFCs.index)\n",
    "    ct_dict = {}\n",
    "    ct_dict[\"cell_type\"] = []\n",
    "    for ct in cell_type:\n",
    "        ct_dict[\"cell_type\"].append({\"ct\": ct})\n",
    "\n",
    "    # generate a volcano plot panel for each transcription factor of interest:\n",
    "    # the panels show volcano plots for each celltype in which there is a\n",
    "    # signigicant transcription factor activity\n",
    "    for ct in ct_dict.keys():\n",
    "        n_sig = len(ct_dict[ct])\n",
    "\n",
    "        # Calculate nrows based on ncol\n",
    "        ncols = 4 if n_sig >= 4 else n_sig\n",
    "        nrows = int(np.ceil(n_sig / ncols))\n",
    "        # fig, axs = plt.subplots(nrows=nrows, ncols=ncols, figsize=(ncols * 4, nrows * 4))\n",
    "        # empty_axs = axs.flatten()\n",
    "        # axs = [{\"ax\": ax} for ax in zip(axs))]\n",
    "        axs = ct_dict[\"cell_type\"]\n",
    "\n",
    "        for ax in axs:\n",
    "            dc.plot_volcano(\n",
    "                logFCs,\n",
    "                pvals,\n",
    "                ax[\"ct\"],\n",
    "                name=ax[\"ct\"],\n",
    "                top=10,\n",
    "                sign_thr=0.1,\n",
    "                lFCs_thr=0.5,\n",
    "                return_fig=False,\n",
    "                # ax=ax[\"ax\"],\n",
    "            )\n",
    "\n",
    "        # set empty axes invisible\n",
    "        # for ax in range(len(axs), len(empty_axs)):\n",
    "        # empty_axs[ax].set_visible(False)\n",
    "\n",
    "        plt.tight_layout()\n",
    "        plt.show()"
   ]
  },
  {
   "cell_type": "code",
   "execution_count": null,
   "id": "7cc9e6f2",
   "metadata": {},
   "outputs": [],
   "source": [
    "def plot_paired(\n",
    "    adata,\n",
    "    groupby,\n",
    "    *,\n",
    "    paired_by=None,\n",
    "    var_names=None,\n",
    "    show=True,\n",
    "    return_fig=False,\n",
    "    n_cols=4,\n",
    "    panel_size=(3, 4),\n",
    "    show_legend=False,\n",
    "    hue=None,\n",
    "    size=10,\n",
    "    ylabel=\"expression\",\n",
    "    pvalues: Sequence[float] = None,\n",
    "    pvalue_template=lambda x: f\"unadj. p={x:.2f}, t-test\",\n",
    "    adjust_fdr=False,\n",
    "    boxplot_properties=None,\n",
    "):\n",
    "    \"\"\"Pairwise expression plot.Makes on panel with a paired scatterplot for each variable.\n",
    "\n",
    "    Parameters\n",
    "    ----------\n",
    "    adata\n",
    "        adata matrix (usually pseudobulk).\n",
    "    groupby\n",
    "        Column containing the grouping. Must contain exactely two different values.\n",
    "    paired_by\n",
    "        Column indicating the pairing (e.g. \"patient\")\n",
    "    var_names\n",
    "        Only plot these variables. Default is to plot all.\n",
    "    adjust_fdr\n",
    "        Adjust p-values for multiple testing using the Benjamini-Hochberg procedure.\n",
    "    boxplot_properties\n",
    "        Properties to pass to the boxplot function.\n",
    "    hue\n",
    "        Column indicating the hue.\n",
    "    n_cols\n",
    "        Number of columns in the figure.\n",
    "    panel_size\n",
    "        Size of each panel.\n",
    "    pvalue_template\n",
    "        Template for the p-value annotation. Must contain a single placeholder for the p-value.\n",
    "    pvalues\n",
    "        P-values to annotate. Must be the same length as var_names.\n",
    "    return_fig\n",
    "        Return the figure object.\n",
    "    show\n",
    "        Show the figure.\n",
    "    show_legend\n",
    "        Show the legend.\n",
    "    size\n",
    "        Size of the points.\n",
    "    ylabel\n",
    "        Label for the y-axis.\n",
    "    \"\"\"\n",
    "    if boxplot_properties is None:\n",
    "        boxplot_properties = {}\n",
    "    groups = adata.obs[groupby].unique()\n",
    "    if len(groups) != 2:\n",
    "        raise ValueError(\"The number of groups in the group_by column must be exactely 2\")\n",
    "\n",
    "    if var_names is None:\n",
    "        var_names = adata.var_names\n",
    "        if len(var_names) > 20:\n",
    "            warnings.warn(\n",
    "                \"You are plotting more than 20 variables which may be slow. \"\n",
    "                \"Explicitly set the `var_names` paraloeter to turn this off. \",\n",
    "                stacklevel=2,\n",
    "            )\n",
    "\n",
    "    X = adata[:, var_names].X\n",
    "    try:\n",
    "        X = X.toarray()\n",
    "    except AttributeError:\n",
    "        pass\n",
    "\n",
    "    groupby_cols = [groupby]\n",
    "    if paired_by is not None:\n",
    "        groupby_cols.insert(0, paired_by)\n",
    "    if hue is not None:\n",
    "        groupby_cols.insert(0, hue)\n",
    "\n",
    "    df = adata.obs.loc[:, groupby_cols].join(pd.DataFrame(X, index=adata.obs_names, columns=var_names))\n",
    "\n",
    "    if paired_by is not None:\n",
    "        # remove unpaired samples\n",
    "        df[paired_by] = df[paired_by].astype(str)\n",
    "        df.set_index(paired_by, inplace=True)\n",
    "        has_matching_samples = df.groupby(paired_by).apply(lambda x: sorted(x[groupby]) == sorted(groups))\n",
    "        has_matching_samples = has_matching_samples.index[has_matching_samples].values\n",
    "        removed_samples = adata.obs[paired_by].nunique() - len(has_matching_samples)\n",
    "        if removed_samples:\n",
    "            warnings.warn(f\"{removed_samples} unpaired samples removed\", stacklevel=2)\n",
    "\n",
    "        # perform statistics (paired ttest)\n",
    "        if pvalues is None:\n",
    "            _, pvalues = scipy.stats.ttest_rel(\n",
    "                df.loc[\n",
    "                    df[groupby] == groups[0],\n",
    "                    var_names,\n",
    "                ].loc[has_matching_samples, :],\n",
    "                df.loc[\n",
    "                    df[groupby] == groups[1],\n",
    "                    var_names,\n",
    "                ].loc[has_matching_samples],\n",
    "            )\n",
    "\n",
    "        df = df.loc[has_matching_samples, :]\n",
    "        df.reset_index(drop=False, inplace=True)\n",
    "\n",
    "    else:\n",
    "        if pvalues is None:\n",
    "            _, pvalues = scipy.stats.ttest_ind(\n",
    "                df.loc[\n",
    "                    df[groupby] == groups[0],\n",
    "                    var_names,\n",
    "                ],\n",
    "                df.loc[\n",
    "                    df[groupby] == groups[1],\n",
    "                    var_names,\n",
    "                ],\n",
    "            )\n",
    "\n",
    "    if adjust_fdr:\n",
    "        pvalues = statsmodels.stats.multitest.fdrcorrection(pvalues)[1]\n",
    "\n",
    "    # transform data for seaborn\n",
    "    df_melt = df.melt(\n",
    "        id_vars=groupby_cols,\n",
    "        var_name=\"var\",\n",
    "        value_name=\"val\",\n",
    "    )\n",
    "\n",
    "    # start plotting\n",
    "    n_panels = len(var_names)\n",
    "    nrows = ceil(n_panels / n_cols)\n",
    "    ncols = min(n_cols, n_panels)\n",
    "\n",
    "    fig, axes = plt.subplots(\n",
    "        nrows,\n",
    "        ncols,\n",
    "        figsize=(ncols * panel_size[0], nrows * panel_size[1]),\n",
    "        tight_layout=True,\n",
    "        squeeze=False,\n",
    "    )\n",
    "    axes = axes.flatten()\n",
    "    if hue is None:\n",
    "        hue = paired_by\n",
    "    for i, (var, ax) in enumerate(zip_longest(var_names, axes)):\n",
    "        if var is not None:\n",
    "            sns.stripplot(\n",
    "                x=groupby,\n",
    "                data=df_melt.loc[lambda x: x[\"var\"] == var],  # noqa: B023\n",
    "                y=\"val\",\n",
    "                ax=ax,\n",
    "                hue=hue,\n",
    "                size=size,\n",
    "                linewidth=1,\n",
    "            )\n",
    "            if paired_by is not None:\n",
    "                sns.lineplot(\n",
    "                    x=groupby,\n",
    "                    data=df_melt.loc[lambda x: x[\"var\"] == var],  # noqa: B023\n",
    "                    hue=hue,\n",
    "                    y=\"val\",\n",
    "                    ax=ax,\n",
    "                    legend=False,\n",
    "                    ci=None,\n",
    "                )\n",
    "            sns.boxplot(\n",
    "                x=groupby,\n",
    "                data=df_melt.loc[lambda x: x[\"var\"] == var],  # noqa: B023\n",
    "                y=\"val\",\n",
    "                ax=ax,\n",
    "                color=\"white\",\n",
    "                fliersize=0,\n",
    "                **boxplot_properties,\n",
    "            )\n",
    "\n",
    "            ax.set_xlabel(\"\")\n",
    "            ax.tick_params(\n",
    "                axis=\"x\",\n",
    "                # rotation=0,\n",
    "                labelsize=9,\n",
    "            )\n",
    "            ax.legend().set_visible(False)\n",
    "            ax.set_ylabel(ylabel)\n",
    "            ax.set_title(var + \"\\n\" + pvalue_template(pvalues[i]))\n",
    "        else:\n",
    "            ax.set_visible(False)\n",
    "    fig.tight_layout()\n",
    "\n",
    "    if show_legend is True:\n",
    "        axes[n_panels - 1].legend().set_visible(True)\n",
    "        axes[n_panels - 1].legend(bbox_to_anchor=(1.1, 1.05))\n",
    "\n",
    "    if show:\n",
    "        plt.show()\n",
    "\n",
    "    if return_fig:\n",
    "        return fig"
   ]
  },
  {
   "cell_type": "code",
   "execution_count": null,
   "id": "0d3dfc1f",
   "metadata": {},
   "outputs": [],
   "source": [
    "for ct in cell_type:\n",
    "    plot_paired(\n",
    "        pdata,\n",
    "        \"condition\",\n",
    "        var_names=list(contrast[\"de_res\"][ct].index)[0:5],\n",
    "        n_cols=5,\n",
    "        panel_size=(2, 4),\n",
    "        hue=None,\n",
    "        size=10,\n",
    "        ylabel=\"expression\",\n",
    "    )"
   ]
  }
 ],
 "metadata": {
  "kernelspec": {
   "display_name": "Python [conda env:.conda-atlas_protocol_23]",
   "language": "python",
   "name": "conda-env-.conda-atlas_protocol_23-py"
  }
 },
 "nbformat": 4,
 "nbformat_minor": 5
}
