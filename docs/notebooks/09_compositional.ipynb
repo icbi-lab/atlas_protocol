{
 "cells": [
  {
   "cell_type": "markdown",
   "id": "a0fbd4fc-040f-4b03-8094-6ce67da14315",
   "metadata": {},
   "source": [
    "# Compositional analysis"
   ]
  },
  {
   "cell_type": "code",
   "execution_count": null,
   "id": "129bf9ed",
   "metadata": {},
   "outputs": [],
   "source": [
    "import altair as alt\n",
    "import scanpy as sc"
   ]
  },
  {
   "cell_type": "code",
   "execution_count": null,
   "id": "bc8a4e4c",
   "metadata": {},
   "outputs": [],
   "source": [
    "input_adata = \"../../data/input_data_zenodo/atlas-integrated-annotated.h5ad\""
   ]
  },
  {
   "cell_type": "code",
   "execution_count": null,
   "id": "c9d73b42",
   "metadata": {},
   "outputs": [],
   "source": [
    "adata = sc.read_h5ad(input_adata)"
   ]
  },
  {
   "cell_type": "code",
   "execution_count": null,
   "id": "3f12a2fd",
   "metadata": {},
   "outputs": [],
   "source": [
    "sc.pl.umap(adata, color=\"cell_type_coarse\")"
   ]
  },
  {
   "cell_type": "code",
   "execution_count": null,
   "id": "48a1b479",
   "metadata": {},
   "outputs": [],
   "source": [
    "cell_type_fractions = (\n",
    "    adata.obs.loc[(adata.obs[\"origin\"] == \"tumor_primary\") & adata.obs[\"condition\"].isin([\"LUAD\", \"LUSC\"]), :]\n",
    "    .groupby([\"condition\", \"patient\", \"cell_type_coarse\"])\n",
    "    .size()\n",
    "    .reset_index(name=\"n\")\n",
    "    .groupby([\"condition\", \"patient\"])\n",
    "    .apply(lambda x: x.assign(frac=x[\"n\"] / x[\"n\"].sum()))\n",
    "    .dropna()\n",
    "    .groupby([\"condition\", \"cell_type_coarse\"])\n",
    "    .agg(\"mean\")\n",
    "    .reset_index()\n",
    ")"
   ]
  },
  {
   "cell_type": "code",
   "execution_count": null,
   "id": "b51f61be",
   "metadata": {},
   "outputs": [],
   "source": [
    "alt.Chart(cell_type_fractions).encode(x=\"condition\", y=\"frac\", color=\"cell_type_coarse\").mark_bar()"
   ]
  },
  {
   "cell_type": "code",
   "execution_count": null,
   "id": "d9257419",
   "metadata": {},
   "outputs": [],
   "source": []
  }
 ],
 "metadata": {
  "kernelspec": {
   "display_name": "Python [conda env:.conda-pircher-sc-integrate2]",
   "language": "python",
   "name": "conda-env-.conda-pircher-sc-integrate2-py"
  },
  "language_info": {
   "codemirror_mode": {
    "name": "ipython",
    "version": 3
   },
   "file_extension": ".py",
   "mimetype": "text/x-python",
   "name": "python",
   "nbconvert_exporter": "python",
   "pygments_lexer": "ipython3",
   "version": "3.10.10"
  }
 },
 "nbformat": 4,
 "nbformat_minor": 5
}
