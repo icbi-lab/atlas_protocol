{
 "cells": [
  {
   "cell_type": "markdown",
   "id": "f34e72cd-3d4a-4c82-bdc5-0119e23661e7",
   "metadata": {},
   "source": [
    "# Integration with bulk RNA-seq data\n",
    "\n",
    "A current limitation of single-cell datasets is the high cost, low sample size and often the lack of associated clinical information. On the other hand bulk RNA-seq experiments are comparatively cheap, and vast amounts of experimental data has accumulated in public repositories, including large-scale datasets with thousands of samples. This motivates integrating bulk RNA-seq data with cell-type information from single-cell RNA-seq datasets.\n",
    "\n",
    ":::{note}\n",
    "*Deconvolution methods* allow to infer cell-type proportions from bulk RNA-seq datasets based on reference signatures. Methods such as CIBERSORTx {cite}`newmanDeterminingCellType2019`, DWLS {cite}`tsoucasAccurateEstimationCelltype2019` or MuSiC {cite}`wangBulkTissueCell2019` can build such reference signatures based on single-cell RNA-seq datasets. The derived cell-type fractions can be tested for associations with clinical data. In {cite:t}`pournaraPowerAnalysisCelltype2023a`, the authors provide an overview and a comparative benchmark of such methods. \n",
    "\n",
    "Alternatively, *Scissor* {cite}`sunIdentifyingPhenotypeassociatedSubpopulations2022` works independent of predefined cell-populations and tests for each cell if it is positively or negatively associated with phenotypic information (e.g. survival data or driver mutations) that comes with bulk RNA-seq datasets. To do so, it calculates Pearson correlation of each cell’s gene\n",
    "expression profile with the bulk RNA-seq data and uses a L1-constrained linear model to explain the phenotypic information with the correlation values.\n",
    "\n",
    "Even though scissor has the advantage that it works independent of known cell-types, it comes with several limitations, namely: \n",
    "\n",
    " * it is computationally expensive (can run hours on a single sample)\n",
    " * it does not natively take biological replicates into account (we circumvent that by running scissor independently on each patient)\n",
    " * it does not allow to model covariates (e.g. sex, age)\n",
    ":::\n",
    "\n",
    "In {cite:t}`salcherHighresolutionSinglecellAtlas2022a`, we used Scissor to test associations of certain driver mutations with certain cell-types. In this example, we are going to demonstrate how to use scissor for testing the effect of EGFR mutation on cell-type composition in *LUAD*. "
   ]
  },
  {
   "cell_type": "markdown",
   "id": "35f6c9d1-2590-47ab-bb17-94b88036ca26",
   "metadata": {},
   "source": [
    "## 1. Import the required libraries"
   ]
  },
  {
   "cell_type": "code",
   "execution_count": 1,
   "id": "aa0f9f35-2990-42a8-9ced-730eb9dd402f",
   "metadata": {},
   "outputs": [],
   "source": [
    "import scanpy as sc\n",
    "import pandas as pd"
   ]
  },
  {
   "cell_type": "markdown",
   "id": "0a9c8c29-7841-4a78-9e02-67c5a3efbd17",
   "metadata": {},
   "source": [
    "## 2. Prepare single-cell and bulk data"
   ]
  },
  {
   "cell_type": "code",
   "execution_count": null,
   "id": "bb58df82-c3ce-4984-aca1-79f6dedb7d6b",
   "metadata": {},
   "outputs": [],
   "source": [
    "adata_path = \"../../data/input_data_zenodo/atlas-integrated-annotated.h5ad\"\n",
    "tcga_tpm_matrix = \"\"\n",
    "tcga_metadata = \"\""
   ]
  },
  {
   "cell_type": "markdown",
   "id": "6619927e-6b27-4432-8f31-76ead362adf3",
   "metadata": {},
   "source": [
    "The TCGA data needs to be..."
   ]
  },
  {
   "cell_type": "code",
   "execution_count": null,
   "id": "1205c306-5fb2-4f8f-905b-c66af8d73dfb",
   "metadata": {},
   "outputs": [],
   "source": []
  },
  {
   "cell_type": "markdown",
   "id": "c46a401e-ddec-49f6-842e-e8c2260962fb",
   "metadata": {},
   "source": [
    "The single-cell data needs to be stored as `SingleCellExperiment` stored in `rds` format. It must contain raw counts. "
   ]
  },
  {
   "cell_type": "markdown",
   "id": "e12f6ddd-20a4-4940-9dcb-1d6648f7de3c",
   "metadata": {},
   "source": [
    "## 3. Run Scissor\n",
    "\n",
    "A step-by-step tutorial on how to run scissor is available from [the package website](https://sunduanchen.github.io/Scissor/vignettes/Scissor_Tutorial.html). We have created a command-line script that runs scissor on a single sample and automatically performs all required preprocessing and analysis steps. "
   ]
  },
  {
   "cell_type": "code",
   "execution_count": 3,
   "id": "173380a9-e0e2-46ab-b7a4-9d34e2c6d41a",
   "metadata": {},
   "outputs": [
    {
     "name": "stdout",
     "output_type": "stream",
     "text": [
      "Error in library(conflicted) : there is no package called ‘conflicted’\n",
      "Execution halted\n"
     ]
    }
   ],
   "source": [
    "!../../bin/scissor_single_sample.R --help"
   ]
  },
  {
   "cell_type": "markdown",
   "id": "c2dc91b8-231e-437b-9e41-62f06e85ca19",
   "metadata": {},
   "source": [
    "## 4. Load scissor results"
   ]
  },
  {
   "cell_type": "markdown",
   "id": "4ca62271-cd58-452f-8b8d-c320c2ba4403",
   "metadata": {},
   "source": [
    "## 5. Visualize on UMAP"
   ]
  },
  {
   "cell_type": "markdown",
   "id": "67915c93-0e82-4139-886a-dadd0d49df35",
   "metadata": {},
   "source": [
    "## 6. Statistical comparison"
   ]
  },
  {
   "cell_type": "code",
   "execution_count": null,
   "id": "02bbaa1e-87c9-4c90-98a1-b7a73e1b7fec",
   "metadata": {},
   "outputs": [],
   "source": []
  }
 ],
 "metadata": {
  "kernelspec": {
   "display_name": "Python [conda env:conda-2023-atlas-protocol]",
   "language": "python",
   "name": "conda-env-conda-2023-atlas-protocol-py"
  },
  "language_info": {
   "codemirror_mode": {
    "name": "ipython",
    "version": 3
   },
   "file_extension": ".py",
   "mimetype": "text/x-python",
   "name": "python",
   "nbconvert_exporter": "python",
   "pygments_lexer": "ipython3",
   "version": "3.10.10"
  }
 },
 "nbformat": 4,
 "nbformat_minor": 5
}
