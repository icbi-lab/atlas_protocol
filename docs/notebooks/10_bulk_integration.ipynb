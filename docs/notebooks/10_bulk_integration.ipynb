{
 "cells": [
  {
   "cell_type": "markdown",
   "id": "f34e72cd-3d4a-4c82-bdc5-0119e23661e7",
   "metadata": {},
   "source": [
    "# Integration with bulk RNA-seq data\n",
    "\n",
    "A current limitation of single-cell datasets is the high cost, low sample size and often the lack of associated clinical information. On the other hand bulk RNA-seq experiments are comparatively cheap, and vast amounts of experimental data has accumulated in public repositories, including large-scale datasets with thousands of samples. This motivates integrating bulk RNA-seq data with cell-type information from single-cell RNA-seq datasets.\n",
    "\n",
    ":::{note}\n",
    "*Deconvolution methods* allow to infer cell-type proportions from bulk RNA-seq datasets based on reference signatures. Methods such as CIBERSORTx {cite}`newmanDeterminingCellType2019`, DWLS {cite}`tsoucasAccurateEstimationCelltype2019` or MuSiC {cite}`wangBulkTissueCell2019` can build such reference signatures based on single-cell RNA-seq datasets. The derived cell-type fractions can be tested for associations with clinical data. In {cite:t}`pournaraPowerAnalysisCelltype2023a`, the authors provide an overview and a comparative benchmark of such methods. \n",
    "\n",
    "Alternatively, *Scissor* {cite}`sunIdentifyingPhenotypeassociatedSubpopulations2022` works independent of predefined cell-populations and tests for each cell if it is positively or negatively associated with phenotypic information (e.g. survival data or driver mutations) that comes with bulk RNA-seq datasets. To do so, it calculates Pearson correlation of each cell’s gene\n",
    "expression profile with the bulk RNA-seq data and uses a L1-constrained linear model to explain the phenotypic information with the correlation values.\n",
    "\n",
    "Even though scissor has the advantage that it works independent of known cell-types, it comes with several limitations, namely: \n",
    "\n",
    " * it is computationally expensive (can run hours on a single sample)\n",
    " * it does not natively take biological replicates into account (we circumvent that by running scissor independently on each patient)\n",
    " * it does not allow to model covariates (e.g. sex, age)\n",
    ":::\n",
    "\n",
    "In {cite:t}`salcherHighresolutionSinglecellAtlas2022a`, we used Scissor to test associations of certain driver mutations with certain cell-types. In this example, we are going to demonstrate how to use scissor for testing the effect of EGFR mutation on cell-type composition in *LUAD*. "
   ]
  },
  {
   "cell_type": "markdown",
   "id": "35f6c9d1-2590-47ab-bb17-94b88036ca26",
   "metadata": {},
   "source": [
    "## 1. Import the required libraries"
   ]
  },
  {
   "cell_type": "code",
   "execution_count": 24,
   "id": "aa0f9f35-2990-42a8-9ced-730eb9dd402f",
   "metadata": {},
   "outputs": [],
   "source": [
    "import scanpy as sc\n",
    "import pandas as pd\n",
    "from tqdm.auto import tqdm\n",
    "from tqdm.contrib.concurrent import process_map\n",
    "from subprocess import run\n",
    "import os\n",
    "import warnings\n",
    "import sys"
   ]
  },
  {
   "cell_type": "markdown",
   "id": "0a9c8c29-7841-4a78-9e02-67c5a3efbd17",
   "metadata": {},
   "source": [
    "## 2. Load input data"
   ]
  },
  {
   "cell_type": "code",
   "execution_count": 2,
   "id": "bb58df82-c3ce-4984-aca1-79f6dedb7d6b",
   "metadata": {},
   "outputs": [],
   "source": [
    "adata_path = \"../../data/input_data_zenodo/atlas-integrated-annotated.h5ad\"\n",
    "tcga_tpm_matrix_path = \"../../data/input_data_zenodo/nsclc_primary_tumor.rds\"\n",
    "tcga_metadata_path = \"../../data/input_data_zenodo/clinical_data_for_scissor.tsv\"\n",
    "scissor_script_path = \"../../bin/scissor_single_sample.R\"\n",
    "h5ad_to_sce_script_path = \"../../bin/h5ad_to_sce.py\"\n",
    "out_dir = \"../../results/scissor\""
   ]
  },
  {
   "cell_type": "code",
   "execution_count": 3,
   "id": "7c34f633-a855-43b0-b713-1ffc3c39c13e",
   "metadata": {},
   "outputs": [],
   "source": [
    "adata = sc.read_h5ad(adata_path)"
   ]
  },
  {
   "cell_type": "code",
   "execution_count": 4,
   "id": "a8b371b7-a243-4b20-8cd9-2683e3fa639b",
   "metadata": {},
   "outputs": [],
   "source": [
    "!mkdir -p {out_dir}/{{sce,h5ad,scissor_res}}"
   ]
  },
  {
   "cell_type": "markdown",
   "id": "6619927e-6b27-4432-8f31-76ead362adf3",
   "metadata": {},
   "source": [
    "The TCGA data needs to be..."
   ]
  },
  {
   "cell_type": "markdown",
   "id": "b309753d-6673-4ef2-97ba-4436e1f2b095",
   "metadata": {},
   "source": [
    "## 3. Export single-cell data for R"
   ]
  },
  {
   "cell_type": "markdown",
   "id": "c46a401e-ddec-49f6-842e-e8c2260962fb",
   "metadata": {},
   "source": [
    "The single-cell data needs to be stored as `SingleCellExperiment` stored in `rds` format. It must contain raw counts. Since we compare to the TCGA primary tumor samples, we exclude normal samples from the single-cell dataset as well. "
   ]
  },
  {
   "cell_type": "code",
   "execution_count": 5,
   "id": "cbde5644-942d-4bd5-a599-72b7ab13fc29",
   "metadata": {},
   "outputs": [],
   "source": [
    "adata_tumor = adata[adata.obs[\"origin\"] == \"tumor_primary\", :]\n",
    "patients = adata_tumor.obs[\"patient\"].unique()"
   ]
  },
  {
   "cell_type": "code",
   "execution_count": 6,
   "id": "8c684c7d-34f3-4368-89cc-d8aedc3ed2f1",
   "metadata": {},
   "outputs": [],
   "source": [
    "for patient in patients:\n",
    "    tmp_adata = adata_tumor[adata_tumor.obs[\"patient\"] == patient, :].copy()\n",
    "    tmp_adata.write_h5ad(f\"{out_dir}/h5ad/{patient}.h5ad\")"
   ]
  },
  {
   "cell_type": "code",
   "execution_count": 7,
   "id": "34e5b220-c900-46bc-ae3e-aee4d1a105c7",
   "metadata": {},
   "outputs": [
    {
     "name": "stderr",
     "output_type": "stream",
     "text": [
      "100%|██████████| 14/14 [01:07<00:00,  4.80s/it]\n"
     ]
    }
   ],
   "source": [
    "def _convert_to_sce(patient):\n",
    "    run(\n",
    "        [\n",
    "            h5ad_to_sce_script_path,\n",
    "            f\"{out_dir}/h5ad/{patient}.h5ad\",\n",
    "            f\"{out_dir}/sce/{patient}.rds\",\n",
    "        ],\n",
    "        check=True,\n",
    "    )\n",
    "\n",
    "\n",
    "_ = process_map(_convert_to_sce, patients)"
   ]
  },
  {
   "cell_type": "markdown",
   "id": "e12f6ddd-20a4-4940-9dcb-1d6648f7de3c",
   "metadata": {},
   "source": [
    "## 3. Run Scissor\n",
    "\n",
    "A step-by-step tutorial on how to run scissor is available from [the package website](https://sunduanchen.github.io/Scissor/vignettes/Scissor_Tutorial.html). We have created a command-line script that runs scissor on a single sample and automatically performs all required preprocessing and analysis steps. "
   ]
  },
  {
   "cell_type": "code",
   "execution_count": 8,
   "id": "173380a9-e0e2-46ab-b7a4-9d34e2c6d41a",
   "metadata": {},
   "outputs": [
    {
     "name": "stdout",
     "output_type": "stream",
     "text": [
      "Warning message:\n",
      "package ‘conflicted’ was built under R version 4.2.2 \n",
      "\u001b[?25hWarning message:\n",
      "package ‘docopt’ was built under R version 4.2.1 \n",
      "\u001b[?25hscissor_single_sample.R\n",
      "\n",
      "Usage:\n",
      "    scissor_single_sample.R --bulk_tpm=<bulk_tpm> --sce=<sce> --metadata=<metadata> [options]\n",
      "\n",
      "Mandatory options:\n",
      "    --bulk_tpm=<bulk_tpm>       Bulk gene expression as matrix with TPM values (not log transformed!) in rds format\n",
      "    --sce=<sce>                 SingleCellExperiment in rds format. Must contain raw UMI counts in `X`.\n",
      "    --metadata=<metadata>       Samplesheet with metadata in TSV format. Binary variables need to be encoded as 0 and 1. Non 0/1 values will be discarded.\n",
      "\n",
      "The program will take the intersection of the <sample_col> in <metadata> and the colnames of <bulk_tpm>.\n",
      "\n",
      "Optional options:\n",
      "    --column=<column>               Column with binary variable for binomial regression\n",
      "    --tumor_type=<tumor_type>       Restrict analysis to certain tumor type [default: any]\n",
      "    --surv_time=<surv_time>         Column with survival time for coxph regression. Must be combined with --surv_status\n",
      "    --surv_status=<surv_status>     Column with survival status for coxpy regression.\n",
      "    --sample_col=<sample_col>       Column in <metadata> with sample identifier (must match colnames of <bulk_tpm>) [default: sample_id]\n",
      "    --out_dir=<out_dir>             Output directory \n",
      "\u001b[?25h"
     ]
    }
   ],
   "source": [
    "!{scissor_script_path} --help"
   ]
  },
  {
   "cell_type": "code",
   "execution_count": 32,
   "id": "543ab9b0-5773-421e-9bde-40ea197c5ed2",
   "metadata": {},
   "outputs": [
    {
     "name": "stderr",
     "output_type": "stream",
     "text": [
      "100%|██████████| 14/14 [2:36:13<00:00, 669.51s/it] \n"
     ]
    }
   ],
   "source": [
    "def _run_scissor(patient):\n",
    "    tmp_out_dir = f\"{out_dir}/scissor_res/{patient}\"\n",
    "    os.makedirs(tmp_out_dir, exist_ok=True)\n",
    "    # fmt: off\n",
    "    res = run(\n",
    "        [\n",
    "            scissor_script_path,\n",
    "            \"--bulk_tpm\", tcga_tpm_matrix_path,\n",
    "            \"--sce\", f\"{out_dir}/sce/{patient}.rds\",\n",
    "            \"--metadata\", tcga_metadata_path,\n",
    "            \"--column\", \"egfr_mutation\",\n",
    "            \"--tumor_type\", \"LUAD\",\n",
    "            \"--sample_col\", \"TCGA_patient_barcode\",\n",
    "            \"--out_dir\", f\"{out_dir}/scissor_res/{patient}\",\n",
    "        ],\n",
    "        check=False,\n",
    "        capture_output=True,\n",
    "    )\n",
    "    # fmt: on\n",
    "    with open(f\"{tmp_out_dir}/{patient}.out\", \"wb\") as f:\n",
    "        f.write(res.stdout)\n",
    "    with open(f\"{tmp_out_dir}/{patient}.err\", \"wb\") as f:\n",
    "        f.write(res.stderr)\n",
    "    if x.returncode != 0:\n",
    "        warnings.warn(f\"patient '{patient}' failed!\")\n",
    "    return res\n",
    "\n",
    "\n",
    "scissor_log = process_map(_run_scissor, patients)"
   ]
  },
  {
   "cell_type": "markdown",
   "id": "c2dc91b8-231e-437b-9e41-62f06e85ca19",
   "metadata": {},
   "source": [
    "## 4. Load scissor results"
   ]
  },
  {
   "cell_type": "markdown",
   "id": "4ca62271-cd58-452f-8b8d-c320c2ba4403",
   "metadata": {},
   "source": [
    "## 5. Visualize on UMAP"
   ]
  },
  {
   "cell_type": "markdown",
   "id": "67915c93-0e82-4139-886a-dadd0d49df35",
   "metadata": {},
   "source": [
    "## 6. Statistical comparison"
   ]
  },
  {
   "cell_type": "code",
   "execution_count": null,
   "id": "02bbaa1e-87c9-4c90-98a1-b7a73e1b7fec",
   "metadata": {},
   "outputs": [],
   "source": []
  }
 ],
 "metadata": {
  "kernelspec": {
   "display_name": "Python [conda env:conda-2023-atlas-protocol]",
   "language": "python",
   "name": "conda-env-conda-2023-atlas-protocol-py"
  },
  "language_info": {
   "codemirror_mode": {
    "name": "ipython",
    "version": 3
   },
   "file_extension": ".py",
   "mimetype": "text/x-python",
   "name": "python",
   "nbconvert_exporter": "python",
   "pygments_lexer": "ipython3",
   "version": "3.10.10"
  }
 },
 "nbformat": 4,
 "nbformat_minor": 5
}
