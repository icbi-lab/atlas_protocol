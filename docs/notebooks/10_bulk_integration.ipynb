{
 "cells": [
  {
   "cell_type": "markdown",
   "id": "f34e72cd-3d4a-4c82-bdc5-0119e23661e7",
   "metadata": {},
   "source": [
    "# Integration with bulk RNA-seq data\n",
    "\n",
    "A current limitation of single-cell datasets is the high cost, low sample size and often the lack of associated clinical information. On the other hand bulk RNA-seq experiments are comparatively cheap, and vast amounts of experimental data has accumulated in public repositories, including large-scale datasets with thousands of samples. This motivates integrating bulk RNA-seq data with cell-type information from single-cell RNA-seq datasets.\n",
    "\n",
    ":::{note}\n",
    "*Deconvolution methods* allow to infer cell-type proportions from bulk RNA-seq datasets based on reference signatures. Methods such as CIBERSORTx {cite}`newmanDeterminingCellType2019`, DWLS {cite}`tsoucasAccurateEstimationCelltype2019` or MuSiC {cite}`wangBulkTissueCell2019` can build such reference signatures based on single-cell RNA-seq datasets. The derived cell-type fractions can be tested for associations with clinical data. In {cite:t}`pournaraPowerAnalysisCelltype2023a`, the authors provide an overview and a comparative benchmark of such methods. \n",
    "\n",
    "Alternatively, *Scissor* {cite}`sunIdentifyingPhenotypeassociatedSubpopulations2022` works independent of predefined cell-populations and tests for each cell if it is positively or negatively associated with phenotypic information (e.g. survival data or driver mutations) that comes with bulk RNA-seq datasets. To do so, it calculates Pearson correlation of each cell’s gene\n",
    "expression profile with the bulk RNA-seq data and uses a L1-constrained linear model to explain the phenotypic information with the correlation values.\n",
    "\n",
    "Even though Scissor has the advantage that it works independent of known cell-types, it comes with several limitations, namely: \n",
    "\n",
    " * it is computationally expensive (can run hours on a single sample)\n",
    " * it does not natively take biological replicates into account (we circumvent that by running scissor independently on each patient)\n",
    " * it does not allow to model covariates (e.g. sex, age)\n",
    ":::\n",
    "\n",
    "In {cite:t}`salcherHighresolutionSinglecellAtlas2022a`, we used Scissor to test associations of certain driver mutations with certain cell-types. In this example, we are going to demonstrate how to use Scissor for testing the effect of EGFR mutation on cell-type composition in *LUAD*. "
   ]
  },
  {
   "cell_type": "markdown",
   "id": "35f6c9d1-2590-47ab-bb17-94b88036ca26",
   "metadata": {},
   "source": [
    "## 1. Import the required libraries"
   ]
  },
  {
   "cell_type": "code",
   "execution_count": null,
   "id": "aa0f9f35-2990-42a8-9ced-730eb9dd402f",
   "metadata": {},
   "outputs": [],
   "source": [
    "import scanpy as sc\n",
    "import pandas as pd\n",
    "from tqdm.contrib.concurrent import process_map\n",
    "from subprocess import run\n",
    "import os\n",
    "import numpy as np\n",
    "import atlas_protocol_scripts as aps\n",
    "import altair as alt"
   ]
  },
  {
   "cell_type": "markdown",
   "id": "0a9c8c29-7841-4a78-9e02-67c5a3efbd17",
   "metadata": {},
   "source": [
    "## 2. Load input data\n",
    "\n",
    "1. Load the annotated AnnData object"
   ]
  },
  {
   "cell_type": "code",
   "execution_count": null,
   "id": "bb58df82-c3ce-4984-aca1-79f6dedb7d6b",
   "metadata": {},
   "outputs": [],
   "source": [
    "adata_path = \"../../data/input_data_zenodo/atlas-integrated-annotated.h5ad\"\n",
    "adata = sc.read_h5ad(adata_path)\n"
   ]
  },
  {
   "cell_type": "markdown",
   "id": "e46f10d4-a4bc-4b17-a867-156e578046a4",
   "metadata": {},
   "source": [
    "2. Define the paths to the bulk data. \n",
    "   * The bulk data must be a `rds` file containing a matrix samples in column names and gene symbols in row names containing untransformed TPM values.  \n",
    "   * The metadata must be a TSV file where one column contains the sample identifiers used as rownames of the TPM matrix. "
   ]
  },
  {
   "cell_type": "code",
   "execution_count": null,
   "id": "1e2e10a6-f213-49f0-afea-118071afbf9d",
   "metadata": {},
   "outputs": [],
   "source": [
    "tcga_tpm_matrix_path = \"../../data/input_data_zenodo/nsclc_primary_tumor.rds\"\n",
    "tcga_metadata_path = \"../../data/input_data_zenodo/clinical_data_for_scissor.tsv\""
   ]
  },
  {
   "cell_type": "markdown",
   "id": "6f78e606-f3c4-4ab5-be62-ea6c959eaaea",
   "metadata": {},
   "source": [
    "3. Define the paths to the scripts for Scissor and h5ad conversion. These scripts are shipped as part of the `atlas_protocol` repo. "
   ]
  },
  {
   "cell_type": "code",
   "execution_count": null,
   "id": "7c34f633-a855-43b0-b713-1ffc3c39c13e",
   "metadata": {},
   "outputs": [],
   "source": [
    "scissor_script_path = \"../../bin/scissor_single_sample.R\"\n",
    "h5ad_to_sce_script_path = \"../../bin/h5ad_to_sce.py\""
   ]
  },
  {
   "cell_type": "markdown",
   "id": "3ce5fd90-14dc-4145-9032-9a2f3744d0cd",
   "metadata": {},
   "source": [
    "4. Create output directories"
   ]
  },
  {
   "cell_type": "code",
   "execution_count": null,
   "id": "a8b371b7-a243-4b20-8cd9-2683e3fa639b",
   "metadata": {},
   "outputs": [],
   "source": [
    "out_dir = \"../../results/scissor\"\n",
    "!mkdir -p {out_dir}/{{sce,h5ad,scissor_res}}"
   ]
  },
  {
   "cell_type": "markdown",
   "id": "b309753d-6673-4ef2-97ba-4436e1f2b095",
   "metadata": {},
   "source": [
    "## 3. Export single-cell data for R"
   ]
  },
  {
   "cell_type": "markdown",
   "id": "c46a401e-ddec-49f6-842e-e8c2260962fb",
   "metadata": {},
   "source": [
    "The scissor script requires single-cell data to be stored as a `rds` file containing a `SingleCellExperiment` object with raw counts. \n",
    "\n",
    "1. Subset the anndata object to the samples of interest. Since we compare to the TCGA primary tumor samples, we exclude normal samples from the single-cell dataset as well. "
   ]
  },
  {
   "cell_type": "code",
   "execution_count": null,
   "id": "cbde5644-942d-4bd5-a599-72b7ab13fc29",
   "metadata": {},
   "outputs": [],
   "source": [
    "adata_tumor = adata[adata.obs[\"origin\"] == \"tumor_primary\", :].copy()"
   ]
  },
  {
   "cell_type": "markdown",
   "id": "73b5e972-c87c-492b-b6f7-b458914a9cf6",
   "metadata": {},
   "source": [
    "2. Define the list of biological replicates. Scissor will be run on each sample individually. "
   ]
  },
  {
   "cell_type": "code",
   "execution_count": null,
   "id": "3fc57cb4-389b-4caa-931d-17a37e2ebaa1",
   "metadata": {},
   "outputs": [],
   "source": [
    "patients = adata_tumor.obs[\"patient\"].unique()"
   ]
  },
  {
   "cell_type": "markdown",
   "id": "4e1376ba-9913-4b2e-bee5-12ae5f1da04f",
   "metadata": {},
   "source": [
    "3. For each patient, store the single-cell data as `h5ad` object. "
   ]
  },
  {
   "cell_type": "code",
   "execution_count": null,
   "id": "8c684c7d-34f3-4368-89cc-d8aedc3ed2f1",
   "metadata": {},
   "outputs": [],
   "source": [
    "for patient in patients:\n",
    "    tmp_adata = adata_tumor[adata_tumor.obs[\"patient\"] == patient, :].copy()\n",
    "    tmp_adata.write_h5ad(f\"{out_dir}/h5ad/{patient}.h5ad\")"
   ]
  },
  {
   "cell_type": "markdown",
   "id": "39a51178-8f2f-40dd-a95a-5e8b604584a9",
   "metadata": {},
   "source": [
    "4. Convert `h5ad` files to `rds` files using the `h5ad_to_sce.py` script. We use `process_map` to perform the conversion in parallel. "
   ]
  },
  {
   "cell_type": "code",
   "execution_count": null,
   "id": "34e5b220-c900-46bc-ae3e-aee4d1a105c7",
   "metadata": {},
   "outputs": [],
   "source": [
    "def _convert_to_sce(patient):\n",
    "    run(\n",
    "        [\n",
    "            h5ad_to_sce_script_path,\n",
    "            f\"{out_dir}/h5ad/{patient}.h5ad\",\n",
    "            f\"{out_dir}/sce/{patient}.rds\",\n",
    "        ],\n",
    "        check=True,\n",
    "    )\n",
    "\n",
    "\n",
    "_ = process_map(_convert_to_sce, patients)"
   ]
  },
  {
   "cell_type": "markdown",
   "id": "e12f6ddd-20a4-4940-9dcb-1d6648f7de3c",
   "metadata": {},
   "source": [
    "## 4. Run Scissor\n",
    "\n",
    ":::{note}\n",
    "We created a command-line script that automatically runs scissor on a single sample. In summary, it performs the following steps: \n",
    " * filter the metadata as specified\n",
    " * preprocess the single-cell using Seurat\n",
    " * perform binomial or CoxPH regression, respectively\n",
    " * perform a grid search on the [`alpha` parameter](https://sunduanchen.github.io/Scissor/vignettes/Scissor_Tutorial.html#tune-model-paramters)\n",
    "\n",
    "A step-by-step tutorial demonstrating how to run Scissor manually while explaining all the individual steps is available from [the package website](https://sunduanchen.github.io/Scissor/vignettes/Scissor_Tutorial.html).\n",
    ":::\n",
    "\n",
    "1. Inspect the help page of the scissor script"
   ]
  },
  {
   "cell_type": "code",
   "execution_count": null,
   "id": "173380a9-e0e2-46ab-b7a4-9d34e2c6d41a",
   "metadata": {},
   "outputs": [],
   "source": [
    "!{scissor_script_path} --help"
   ]
  },
  {
   "cell_type": "markdown",
   "id": "1829a172-a30a-48e2-97e0-2548407a0269",
   "metadata": {},
   "source": [
    "2. Run the scissor script on each `rds` file generated above"
   ]
  },
  {
   "cell_type": "code",
   "execution_count": null,
   "id": "543ab9b0-5773-421e-9bde-40ea197c5ed2",
   "metadata": {},
   "outputs": [],
   "source": [
    "def _run_scissor(patient):\n",
    "    tmp_out_dir = f\"{out_dir}/scissor_res/{patient}\"\n",
    "    os.makedirs(tmp_out_dir, exist_ok=True)\n",
    "    # fmt: off\n",
    "    res = run(\n",
    "        [\n",
    "            scissor_script_path,\n",
    "            \"--bulk_tpm\", tcga_tpm_matrix_path,\n",
    "            \"--sce\", f\"{out_dir}/sce/{patient}.rds\",\n",
    "            \"--metadata\", tcga_metadata_path,\n",
    "            \"--column\", \"egfr_mutation\", \n",
    "            \"--filter_col\", \"type\", \"--filter_val\", \"LUAD\",\n",
    "            \"--sample_col\", \"TCGA_patient_barcode\",\n",
    "            \"--out_dir\", f\"{out_dir}/scissor_res/{patient}\",\n",
    "        ],\n",
    "        check=False,\n",
    "        capture_output=True,\n",
    "    )\n",
    "    # fmt: on\n",
    "    \n",
    "    # Write STDERR and STDOUT to log file\n",
    "    with open(f\"{tmp_out_dir}/{patient}.out\", \"wb\") as f:\n",
    "        f.write(res.stdout)\n",
    "    with open(f\"{tmp_out_dir}/{patient}.err\", \"wb\") as f:\n",
    "        f.write(res.stderr)\n",
    "    return res\n",
    "\n",
    "\n",
    "scissor_log = process_map(_run_scissor, patients)"
   ]
  },
  {
   "cell_type": "markdown",
   "id": "65fcb5ae-0c6f-4d91-a948-7e1290650bf6",
   "metadata": {},
   "source": [
    "3. Check if scissor could be executed successfully on all samples\n",
    "\n",
    ":::{warning}\n",
    "The scissor script may fail on some samples. We can ignore these samples and proceed with the downstream analysis.\n",
    "\n",
    "The most common reason is that a single sample has too few cells for the automatic Seurat preprocessing to complete successfully. \n",
    "We recommend inspecting the log files written to the output directory for each failed sample. \n",
    ":::"
   ]
  },
  {
   "cell_type": "code",
   "execution_count": null,
   "id": "d2febdb1-51e3-437b-ad6c-dcb164faeff3",
   "metadata": {},
   "outputs": [],
   "source": [
    "for patient, log in zip(patients, scissor_log):\n",
    "    if log.returncode != 0:\n",
    "        print(f\"patient '{patient}' failed!\")"
   ]
  },
  {
   "cell_type": "markdown",
   "id": "c2dc91b8-231e-437b-9e41-62f06e85ca19",
   "metadata": {},
   "source": [
    "## 5. Load scissor results\n",
    "\n",
    "For each sample, scissor generates a tsv file with a label for each cell. The label can be either \"scissor+\" (i.e. the cell is positively associated with the phenotype of interest), \"scissor-\" (i.e. negatively associated), or \"NA\" (i.e. not associated). "
   ]
  },
  {
   "cell_type": "markdown",
   "id": "98d49e2d-e497-466d-8b6c-fb9f5299500b",
   "metadata": {},
   "source": [
    "1. read the `tsv` files generated by the scissor script"
   ]
  },
  {
   "cell_type": "code",
   "execution_count": null,
   "id": "e309acbb-7749-4073-8263-17b48d5248b1",
   "metadata": {},
   "outputs": [],
   "source": [
    "scissor_res = {}\n",
    "for patient in patients:\n",
    "    try:\n",
    "        scissor_res[patient] = pd.read_csv(\n",
    "            f\"{out_dir}/scissor_res/{patient}/scissor_egfr_mutation_LUAD.tsv\",\n",
    "            sep=\"\\t\",\n",
    "            index_col=\"cell_id\",\n",
    "        )\n",
    "    except IOError:\n",
    "        print(f\"no result found for '{patient}'!\")\n",
    "        pass"
   ]
  },
  {
   "cell_type": "markdown",
   "id": "216046f0-064e-4077-aa05-88ab172172cc",
   "metadata": {},
   "source": [
    "2. Assign the results back to the AnnData object. "
   ]
  },
  {
   "cell_type": "code",
   "execution_count": null,
   "id": "4bed17e8-07db-41cc-b858-f91280d1563f",
   "metadata": {},
   "outputs": [],
   "source": [
    "adata_tumor.obs[\"scissor_egfr\"] = pd.concat(scissor_res.values())"
   ]
  },
  {
   "cell_type": "markdown",
   "id": "1d33bfa0-9a2a-4c23-a878-107cbf991c7f",
   "metadata": {},
   "source": [
    "3. Assign cells that are neither \"scissor+\" nor \"scissor-\" cells the label \"neutral\""
   ]
  },
  {
   "cell_type": "code",
   "execution_count": null,
   "id": "be4ea267-6b89-45cc-8848-e62c219f44d1",
   "metadata": {},
   "outputs": [],
   "source": [
    "adata_tumor.obs[\"scissor_egfr\"].fillna(\"neutral\", inplace=True)"
   ]
  },
  {
   "cell_type": "markdown",
   "id": "4ca62271-cd58-452f-8b8d-c320c2ba4403",
   "metadata": {},
   "source": [
    "## 6. Visualize on UMAP"
   ]
  },
  {
   "cell_type": "code",
   "execution_count": null,
   "id": "d7e8f5cd-ca3c-4278-8b8d-7d89d97ee587",
   "metadata": {},
   "outputs": [],
   "source": [
    "sc.pl.umap(\n",
    "    adata_tumor,\n",
    "    color=\"scissor_egfr\",\n",
    "    palette={\"scissor+\": \"blue\", \"scissor-\": \"red\", \"neutral\": \"lightgrey\"},\n",
    ")"
   ]
  },
  {
   "cell_type": "markdown",
   "id": "67915c93-0e82-4139-886a-dadd0d49df35",
   "metadata": {},
   "source": [
    "## 7. Statistical comparison"
   ]
  },
  {
   "cell_type": "markdown",
   "id": "368c524d-fa6e-407d-a6a1-f519f81da304",
   "metadata": {},
   "source": [
    "1. For each patient and cell-type, compute the fraction of \"scissor+\", \"scissor-\" and \"neutral\" cells"
   ]
  },
  {
   "cell_type": "code",
   "execution_count": null,
   "id": "56fb96ff-c973-4308-b092-e360f651e370",
   "metadata": {},
   "outputs": [],
   "source": [
    "scissor_fractions = (\n",
    "    # make data frame of scissor+/scissor-/neutral counts for each patient and cell-type\n",
    "    adata_tumor.obs.groupby([\"cell_type\", \"patient\", \"scissor_egfr\"])\n",
    "    .size()\n",
    "    .unstack()\n",
    "    # keep only samples with > 10 cells\n",
    "    .loc[lambda x: x.apply(lambda row: np.sum(row), axis=1) > 10]\n",
    "    # normalize to fractions per sample\n",
    "    .apply(lambda row: row / np.sum(row), axis=1)\n",
    ")\n",
    "scissor_fractions"
   ]
  },
  {
   "cell_type": "markdown",
   "id": "49824871-2fc7-48d6-803c-2847b07e1f81",
   "metadata": {},
   "source": [
    "2. For each cell-type, perform a wilcoxon test to compare the fractions of \"scissor+\" and \"scissor-\" cells and compute the log2 ratio of fractions "
   ]
  },
  {
   "cell_type": "code",
   "execution_count": null,
   "id": "02bbaa1e-87c9-4c90-98a1-b7a73e1b7fec",
   "metadata": {},
   "outputs": [],
   "source": [
    "scissor_test_results = (\n",
    "    scissor_fractions.groupby(\"cell_type\")\n",
    "    .apply(aps.tl.scissor_wilcoxon_test)\n",
    "    .pipe(aps.tl.fdr_correction)\n",
    "    .reset_index()\n",
    ")\n",
    "scissor_test_results.head()"
   ]
  },
  {
   "cell_type": "markdown",
   "id": "5aa250e3-82e4-44ed-8a81-bd2dcf41c828",
   "metadata": {},
   "source": [
    "3. Filter the results to keep only cell-types with an FDR smaller than a specified threshold"
   ]
  },
  {
   "cell_type": "code",
   "execution_count": null,
   "id": "e92ab976-b69b-46cd-b2e4-34997244f0bd",
   "metadata": {},
   "outputs": [],
   "source": [
    "scissor_test_results_filtered = scissor_test_results.loc[lambda x: x[\"fdr\"] < 0.1]"
   ]
  },
  {
   "cell_type": "markdown",
   "id": "afef9a4b-ad1e-4a40-a8c8-d6fa317b16be",
   "metadata": {},
   "source": [
    "## 8. Plot results as bar chart using altair"
   ]
  },
  {
   "cell_type": "code",
   "execution_count": null,
   "id": "410aca2a-6ba3-4227-b493-d73ed581da07",
   "metadata": {},
   "outputs": [],
   "source": [
    "order = scissor_test_results_filtered.sort_values(\"log2_ratio\")[\"cell_type\"].tolist()\n",
    "max_ = np.max(np.abs(scissor_test_results_filtered[\"log2_ratio\"]))\n",
    "(\n",
    "    alt.Chart(scissor_test_results_filtered)\n",
    "    .mark_bar()\n",
    "    .encode(\n",
    "        x=alt.X(\"cell_type\", sort=order, axis=alt.Axis(labelLimit=400)),\n",
    "        y=alt.Y(\"log2_ratio\", scale=alt.Scale(domain=[-5.5, 5.5])),\n",
    "        color=alt.Color(\n",
    "            \"log2_ratio\", scale=alt.Scale(scheme=\"redblue\", domain=[-max_, max_])\n",
    "        ),\n",
    "    )\n",
    "    .properties(height=100)\n",
    ")"
   ]
  }
 ],
 "metadata": {
  "kernelspec": {
   "display_name": "Python [conda env:conda-2023-atlas-protocol]",
   "language": "python",
   "name": "conda-env-conda-2023-atlas-protocol-py"
  },
  "language_info": {
   "codemirror_mode": {
    "name": "ipython",
    "version": 3
   },
   "file_extension": ".py",
   "mimetype": "text/x-python",
   "name": "python",
   "nbconvert_exporter": "python",
   "pygments_lexer": "ipython3",
   "version": "3.10.10"
  }
 },
 "nbformat": 4,
 "nbformat_minor": 5
}
