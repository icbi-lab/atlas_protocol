{
 "cells": [
  {
   "cell_type": "markdown",
   "id": "8e954883-e296-46b3-b23c-687e276d44bd",
   "metadata": {},
   "source": [
    "# Cell-to-cell communication\n",
    "\n",
    "Effective biological functions, such as the immune response, rely heavily on the communication between cells. When cells are dissociated for single-cell sequencing, the spatial relationships between them are disrupted, leading to loss of important information. Consequently, a number of algorithms have been devised to deduce intercellular communication from gene expression data.Typically, these techniques comprise a repository of recognized ligand-receptor pairings and a computation mechanism for assessing these pairings according to their gene expression patterns.\n",
    "\n",
    "Dimitrov et al. {cite}`Dimitrov2022` conducted a comparative study of 16 ligand-receptor databases and 7 methods, which encompassed Cell-PhoneDB {cite}`Efremova2020`, CellChatDB {cite}`Jin2021`, and NATMI {cite}`Hou2020`. The LIANA package {cite}`Trei2021` was utilized to provide a unified interface to all methods, and they consolidated the ligand-receptor data from all databases into Omnipathdb. The researchers evaluated the methods and databases in relation to their correlation with spatial proximity and cytokine signaling, due to the abscence of a gold standard dataset that could be used for benchmarking purposes. Despite significant variations observed among both the methods and databases, no single technique emerged as consistently superior to the others. Methods like NicheNet {cite}`Browaeys2019`, cytotalk {cite}`Hu2021`, and SoptSC {cite}`Wang2019` go a step forward by also factoring in gene regulatory networks within a cell (intracellular communication). This enables the exploitation of the expression of downstream target genes of a receptor for predicting cell-cell interactions.\n",
    "\n",
    "Initially, the techniques outlined above were developed to evaluate intercellular communication between distinct cell types. To achieve this objective, CellPhoneDB and CellChatDB deploy a permutation test that randomizes cell type labels. While this approach is valuable in comprehending the steady state across different tissues, with the single-cell research domain now embracing perturbation experiments and extensive atlases, it has become necessary to implement methods for assessing varied patterns of intercellular communication. To takle this problem we have incorporated a straightforward yet efficient technique by considering a ligand-receptor pair as potentially perturbed if there is differential expression in at least one of the ligand and receptor. By using differentially expressed ligands/receptors (from comparisons between conditions) as input, we account for pseudoreplication bias and dropouts of lowly expressed genes."
   ]
  },
  {
   "cell_type": "markdown",
   "id": "4891e6af-5ee5-41c4-9d87-5f27eef1e44d",
   "metadata": {},
   "source": [
    "### 1. Import the required libraries"
   ]
  },
  {
   "cell_type": "code",
   "execution_count": null,
   "id": "fa333130-81ca-43c1-96e8-f38b20ddd332",
   "metadata": {},
   "outputs": [],
   "source": [
    "\n",
    "import pandas as pd\n",
    "import scanpy as sc\n",
    "\n",
    "import atlas_protocol_scripts as aps"
   ]
  },
  {
   "cell_type": "markdown",
   "id": "bd541f5f-5f0c-4043-897a-9148644c009e",
   "metadata": {},
   "source": [
    "### 2. Load and sanitise the input data"
   ]
  },
  {
   "cell_type": "code",
   "execution_count": null,
   "id": "53ec195c-e436-4d8a-b62e-2eacefce905f",
   "metadata": {},
   "outputs": [],
   "source": [
    "# Define paths\n",
    "path_adata = \"/home/fotakis/myScratch/atlas_tmp/atlas-integrated-annotated.h5ad\"\n",
    "# results_dir =\"/home/fotakis/myScratch/atlas_tmp\"\n",
    "path_ccdb = \"/home/fotakis/myScratch/atlas_tmp/differential_expression/omnipathdb.tsv\"\n",
    "deseq2_path_prefix = \"/home/fotakis/myScratch/atlas_tmp/differential_expression/\""
   ]
  },
  {
   "cell_type": "code",
   "execution_count": null,
   "id": "3916e25e-f530-4dc6-9b88-bee416f23581",
   "metadata": {},
   "outputs": [],
   "source": [
    "# Load in the scRNAseq data\n",
    "adata = sc.read_h5ad(path_adata)\n",
    "\n",
    "# Load in the cellChatDB database\n",
    "ccdb = pd.read_csv(path_ccdb, sep=\"\\t\")"
   ]
  },
  {
   "cell_type": "code",
   "execution_count": null,
   "id": "bc6213d9-af9b-4547-a7f3-51ada920c7fe",
   "metadata": {},
   "outputs": [],
   "source": [
    "# Keep primary sites and LUAD-LUSC conditions only\n",
    "adata_primary_tumor = adata[(adata.obs[\"origin\"] == \"tumor_primary\") & (adata.obs[\"condition\"] != \"NSCLC NOS\")].copy()"
   ]
  },
  {
   "cell_type": "code",
   "execution_count": null,
   "id": "b6ecabb1-aa07-454b-b7db-27abc5fd37d4",
   "metadata": {},
   "outputs": [],
   "source": [
    "# Sanity check\n",
    "adata_primary_tumor.obs"
   ]
  },
  {
   "cell_type": "markdown",
   "id": "ca88f1be-4117-473e-9252-b74202c5b033",
   "metadata": {},
   "source": [
    "### 3. Define the Immune cell types"
   ]
  },
  {
   "cell_type": "code",
   "execution_count": null,
   "id": "10b63c83-89a5-4977-a56f-92b9d0634480",
   "metadata": {},
   "outputs": [],
   "source": [
    "# Define immune cell types (to be used for ploting)\n",
    "immune_cells = [\n",
    "    \"B cell\",\n",
    "    \"cDC1\",\n",
    "    \"cDC2\",\n",
    "    \"DC mature\",\n",
    "    \"Macrophage\",\n",
    "    \"Macrophage alveolar\",\n",
    "    \"Mast cell\",\n",
    "    \"Monocyte\",\n",
    "    \"Neutrophils\",\n",
    "    \"NK cell\",\n",
    "    \"pDC\",\n",
    "    \"Plasma cell\",\n",
    "    \"T cell CD4\",\n",
    "    \"T cell CD8\",\n",
    "    \"T cell regulatory\",\n",
    "]"
   ]
  },
  {
   "cell_type": "markdown",
   "id": "9a82eecf-3894-4196-b79a-5a3790a0a3f5",
   "metadata": {},
   "source": [
    "### 4. Perform the cell-to-cell communication analysis"
   ]
  },
  {
   "cell_type": "code",
   "execution_count": null,
   "id": "ea08bc7c-0052-4a70-a914-ba1105acb337",
   "metadata": {},
   "outputs": [],
   "source": [
    "# Sanity check\n",
    "ccdb"
   ]
  },
  {
   "cell_type": "code",
   "execution_count": null,
   "id": "0bbcd432-5171-40f4-9ffb-8e9c47b1fd4b",
   "metadata": {},
   "outputs": [],
   "source": [
    "# Run the analysis function (using the receptor ligand-list and the LUAD-LUSC data)\n",
    "ccdba = aps.tl._cell2cell.CpdbAnalysis(\n",
    "    ccdb,\n",
    "    adata_primary_tumor,\n",
    "    pseudobulk_group_by=[\"patient\"],\n",
    "    cell_type_column=\"cell_type_major\",\n",
    ")"
   ]
  },
  {
   "cell_type": "markdown",
   "id": "63954983-97e6-47f0-baf2-46b896e9b603",
   "metadata": {},
   "source": [
    "### 5. Use the DE results to infer cell-to-cell communications"
   ]
  },
  {
   "cell_type": "code",
   "execution_count": null,
   "id": "b761d228-70a1-4298-a0ec-7f9d1dc2e59f",
   "metadata": {},
   "outputs": [],
   "source": [
    "# Load in DE results (using LUAD as reference)\n",
    "de_res_tumor_cells_luad_lusc = (\n",
    "    pd.read_csv(\n",
    "        (deseq2_path_prefix + \"/IHWallGenes.tsv\").format(comparison=\"luad_lusc\"),\n",
    "        sep=\",\",\n",
    "    )\n",
    "    .fillna(1)\n",
    "    .pipe(aps.tl._fdr.fdr_correction)\n",
    "    .assign(group=\"LUAD\")\n",
    ")"
   ]
  },
  {
   "cell_type": "code",
   "execution_count": null,
   "id": "a3592357-9b68-47be-8772-0617eb0b39a3",
   "metadata": {},
   "outputs": [],
   "source": [
    "# Sanity check\n",
    "de_res_tumor_cells_luad_lusc"
   ]
  },
  {
   "cell_type": "code",
   "execution_count": null,
   "id": "7ff1846b-431f-481f-b344-bc26e57a6bdf",
   "metadata": {},
   "outputs": [],
   "source": [
    "# Save the results\n",
    "ccdb_res = ccdba.significant_interactions(de_res_tumor_cells_luad_lusc, max_pvalue=0.1)\n",
    "# ccdb_res.to_csv(f\"{results_dir}/cpdb_luad_lusc_coarse.csv\")"
   ]
  },
  {
   "cell_type": "markdown",
   "id": "ce8ff828-8dbe-45e6-8c8c-22f134767b5c",
   "metadata": {},
   "source": [
    "### 6. Visualisation"
   ]
  },
  {
   "cell_type": "code",
   "execution_count": null,
   "id": "3a6ef889-22b6-4c35-aab6-c309b3f534af",
   "metadata": {},
   "outputs": [],
   "source": [
    "# Load in the results\n",
    "ccdb_res = ccdba.significant_interactions(de_res_tumor_cells_luad_lusc, max_pvalue=0.1)"
   ]
  },
  {
   "cell_type": "code",
   "execution_count": null,
   "id": "27c872f7-c6ea-434f-829e-c984acc56898",
   "metadata": {},
   "outputs": [],
   "source": [
    "# Keep only the immune cells (we'll use this for plotting)\n",
    "ccdb_res = ccdb_res.loc[lambda x: x[\"cell_type_major\"].isin(immune_cells)]"
   ]
  },
  {
   "cell_type": "code",
   "execution_count": null,
   "id": "f21a4b88-8590-46ed-b55c-f862efb3a597",
   "metadata": {},
   "outputs": [],
   "source": [
    "# Create a list of unique top-upregulated genes\n",
    "top_genes = (\n",
    "    ccdb_res.loc[:, [\"source_genesymbol\", \"fdr\"]]\n",
    "    .drop_duplicates()\n",
    "    .sort_values(\"fdr\")[\"source_genesymbol\"][:30]\n",
    "    .tolist()\n",
    ")"
   ]
  },
  {
   "cell_type": "code",
   "execution_count": null,
   "id": "2f922fb5-e7fc-4a01-abbf-627327d51809",
   "metadata": {},
   "outputs": [],
   "source": [
    "# Plot the results\n",
    "ccdba.plot_result(\n",
    "    ccdb_res.loc[lambda x: x[\"source_genesymbol\"].isin(top_genes)],\n",
    "    title=\"LUAD vs LUSC: tumor cells, top 30 DE ligands\",\n",
    "    aggregate=False,\n",
    "    cluster=\"heatmap\",\n",
    "    label_limit=80,\n",
    ")"
   ]
  }
 ],
 "metadata": {
  "kernelspec": {
   "display_name": "atlas_protocol",
   "language": "python",
   "name": "atlas_protocol"
  },
  "language_info": {
   "codemirror_mode": {
    "name": "ipython",
    "version": 3
   },
   "file_extension": ".py",
   "mimetype": "text/x-python",
   "name": "python",
   "nbconvert_exporter": "python",
   "pygments_lexer": "ipython3",
   "version": "3.8.16"
  }
 },
 "nbformat": 4,
 "nbformat_minor": 5
}
