{
 "cells": [
  {
   "cell_type": "markdown",
   "id": "7a5a937d-3dc8-4fd3-9832-fbac5251fd82",
   "metadata": {},
   "source": [
    "# Before you begin"
   ]
  },
  {
   "cell_type": "markdown",
   "id": "785a246e-cf1e-4804-ae71-815a31473f4f",
   "metadata": {},
   "source": [
    "## Hardware requirements\n",
    "\n",
    "## Software prerequisites\n",
    "\n",
    "## Installing software dependencies\n",
    "\n",
    "## Obtain and preprocess datasets\n",
    "\n",
    ":::{note}\n",
    "data management\n",
    ":::\n",
    "\n",
    ":::{note}\n",
    "description of the test datasets\n",
    ":::"
   ]
  },
  {
   "cell_type": "markdown",
   "id": "96ff9720-97c0-4e77-bca7-8e030c99c3af",
   "metadata": {},
   "source": [
    "## Obtain bulk RNA-seq datasets and metadata"
   ]
  },
  {
   "cell_type": "code",
   "execution_count": null,
   "id": "a4db6902-07a0-4370-bf14-f761486207f8",
   "metadata": {},
   "outputs": [],
   "source": []
  }
 ],
 "metadata": {
  "kernelspec": {
   "display_name": "Python [conda env:conda-2023-atlas-protocol]",
   "language": "python",
   "name": "conda-env-conda-2023-atlas-protocol-py"
  },
  "language_info": {
   "codemirror_mode": {
    "name": "ipython",
    "version": 3
   },
   "file_extension": ".py",
   "mimetype": "text/x-python",
   "name": "python",
   "nbconvert_exporter": "python",
   "pygments_lexer": "ipython3",
   "version": "3.10.10"
  }
 },
 "nbformat": 4,
 "nbformat_minor": 5
}
