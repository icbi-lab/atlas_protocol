{
 "cells": [
  {
   "cell_type": "markdown",
   "id": "f96c42f9-2f4c-4dc3-a260-6a9b61435204",
   "metadata": {},
   "source": [
    "# Next steps\n",
    "\n",
    "## Sharing the data\n",
    " * scVI model\n",
    "\n",
    "## Sharing the code\n",
    "\n",
    "## Sharing the environment\n",
    "\n",
    "## A note on reproducibility"
   ]
  }
 ],
 "metadata": {
  "kernelspec": {
   "display_name": "Python [conda env:conda-2023-atlas-protocol]",
   "language": "python",
   "name": "conda-env-conda-2023-atlas-protocol-py"
  },
  "language_info": {
   "codemirror_mode": {
    "name": "ipython",
    "version": 3
   },
   "file_extension": ".py",
   "mimetype": "text/x-python",
   "name": "python",
   "nbconvert_exporter": "python",
   "pygments_lexer": "ipython3",
   "version": "3.10.10"
  }
 },
 "nbformat": 4,
 "nbformat_minor": 5
}
